{
 "cells": [
  {
   "cell_type": "markdown",
   "metadata": {
    "colab_type": "text",
    "id": "UhGVcnMbgr7y"
   },
   "source": [
    "# ENet -  Real Time Semantic Segmentation\n",
    "\n",
    "In this notebook, we have reproduced the ENet paper. <br/>\n",
    "Link to the paper: https://arxiv.org/pdf/1606.02147.pdf <br/>\n",
    "Link to the repository: https://github.com/iArunava/ENet-Real-Time-Semantic-Segmentation\n",
    "\n",
    "\n",
    "Star and Fork!\n",
    "\n",
    "\n",
    "**ALL THE CODE IN THIS NOTEBOOK ASSUMES THE USAGE OF THE <span style=\"color:blue;\">CAMVID</span> DATASET**"
   ]
  },
  {
   "cell_type": "markdown",
   "metadata": {
    "colab_type": "text",
    "id": "8qnyf_pzhKXv"
   },
   "source": [
    "## Install the dependencies and Import them"
   ]
  },
  {
   "cell_type": "code",
   "execution_count": 1,
   "metadata": {
    "colab": {},
    "colab_type": "code",
    "id": "5NCTHdEqj317"
   },
   "outputs": [],
   "source": [
    "import torch\n",
    "import torch.nn as nn\n",
    "import torch.nn.functional as F\n",
    "import numpy as np\n",
    "import matplotlib.pyplot as plt\n",
    "from torch.optim.lr_scheduler import StepLR\n",
    "import cv2\n",
    "import os\n",
    "from tqdm import tqdm\n",
    "from PIL import Image"
   ]
  },
  {
   "cell_type": "markdown",
   "metadata": {
    "colab_type": "text",
    "id": "7m-TI5tHhSka"
   },
   "source": [
    "## Download the CamVid dataset "
   ]
  },
  {
   "cell_type": "code",
   "execution_count": 2,
   "metadata": {
    "colab": {
     "base_uri": "https://localhost:8080/",
     "height": 25441
    },
    "colab_type": "code",
    "id": "VcU98cbVppiu",
    "outputId": "e759b961-9898-4510-f2d0-808db5320f36"
   },
   "outputs": [
    {
     "name": "stdout",
     "output_type": "stream",
     "text": [
      "--2019-05-04 16:29:51--  https://www.dropbox.com/s/pxcz2wdz04zxocq/CamVid.zip?dl=1\n",
      "Resolving www.dropbox.com (www.dropbox.com)... 162.125.70.1, 2620:100:6026:1::a27d:4601\n",
      "Connecting to www.dropbox.com (www.dropbox.com)|162.125.70.1|:443... connected.\n",
      "HTTP request sent, awaiting response... 301 Moved Permanently\n",
      "Location: /s/dl/pxcz2wdz04zxocq/CamVid.zip [following]\n",
      "--2019-05-04 16:29:52--  https://www.dropbox.com/s/dl/pxcz2wdz04zxocq/CamVid.zip\n",
      "Reusing existing connection to www.dropbox.com:443.\n",
      "HTTP request sent, awaiting response... 302 Found\n",
      "Location: https://uc0fb2aeefaba9e2a4ca79724f27.dl.dropboxusercontent.com/cd/0/get/AgOpEBCKj-1keQJcqg4klgi87yhwWFMkssde6I2FjY4S12m1G87Fc217Repr-psi6Fgr3jSiKH5BnZkFwuRZCpSm0StLBv3OuPG714YQ7_QsBQ/file?dl=1# [following]\n",
      "--2019-05-04 16:29:52--  https://uc0fb2aeefaba9e2a4ca79724f27.dl.dropboxusercontent.com/cd/0/get/AgOpEBCKj-1keQJcqg4klgi87yhwWFMkssde6I2FjY4S12m1G87Fc217Repr-psi6Fgr3jSiKH5BnZkFwuRZCpSm0StLBv3OuPG714YQ7_QsBQ/file?dl=1\n",
      "Resolving uc0fb2aeefaba9e2a4ca79724f27.dl.dropboxusercontent.com (uc0fb2aeefaba9e2a4ca79724f27.dl.dropboxusercontent.com)... 162.125.72.6, 2620:100:6026:6::a27d:4606\n",
      "Connecting to uc0fb2aeefaba9e2a4ca79724f27.dl.dropboxusercontent.com (uc0fb2aeefaba9e2a4ca79724f27.dl.dropboxusercontent.com)|162.125.72.6|:443... connected.\n",
      "HTTP request sent, awaiting response... 200 OK\n",
      "Length: 187049523 (178M) [application/binary]\n",
      "Saving to: ‘./content/CamVid.zip’\n",
      "\n",
      "./content/CamVid.zi 100%[===================>] 178,38M  3,53MB/s    in 54s     \n",
      "\n",
      "2019-05-04 16:30:47 (3,30 MB/s) - ‘./content/CamVid.zip’ saved [187049523/187049523]\n",
      "\n",
      "Archive:  ./content/CamVid.zip\n",
      "  inflating: ./content/test/0001TP_008550.png  \n",
      "  inflating: ./content/test/0001TP_008580.png  \n",
      "  inflating: ./content/test/0001TP_008610.png  \n",
      "  inflating: ./content/test/0001TP_008640.png  \n",
      "  inflating: ./content/test/0001TP_008670.png  \n",
      "  inflating: ./content/test/0001TP_008700.png  \n",
      "  inflating: ./content/test/0001TP_008730.png  \n",
      "  inflating: ./content/test/0001TP_008760.png  \n",
      "  inflating: ./content/test/0001TP_008790.png  \n",
      "  inflating: ./content/test/0001TP_008820.png  \n",
      "  inflating: ./content/test/0001TP_008850.png  \n",
      "  inflating: ./content/test/0001TP_008880.png  \n",
      "  inflating: ./content/test/0001TP_008910.png  \n",
      "  inflating: ./content/test/0001TP_008940.png  \n",
      "  inflating: ./content/test/0001TP_008970.png  \n",
      "  inflating: ./content/test/0001TP_009000.png  \n",
      "  inflating: ./content/test/0001TP_009030.png  \n",
      "  inflating: ./content/test/0001TP_009060.png  \n",
      "  inflating: ./content/test/0001TP_009090.png  \n",
      "  inflating: ./content/test/0001TP_009120.png  \n",
      "  inflating: ./content/test/0001TP_009150.png  \n",
      "  inflating: ./content/test/0001TP_009180.png  \n",
      "  inflating: ./content/test/0001TP_009210.png  \n",
      "  inflating: ./content/test/0001TP_009240.png  \n",
      "  inflating: ./content/test/0001TP_009270.png  \n",
      "  inflating: ./content/test/0001TP_009300.png  \n",
      "  inflating: ./content/test/0001TP_009330.png  \n",
      "  inflating: ./content/test/0001TP_009360.png  \n",
      "  inflating: ./content/test/0001TP_009390.png  \n",
      "  inflating: ./content/test/0001TP_009420.png  \n",
      "  inflating: ./content/test/0001TP_009450.png  \n",
      "  inflating: ./content/test/0001TP_009480.png  \n",
      "  inflating: ./content/test/0001TP_009510.png  \n",
      "  inflating: ./content/test/0001TP_009540.png  \n",
      "  inflating: ./content/test/0001TP_009570.png  \n",
      "  inflating: ./content/test/0001TP_009600.png  \n",
      "  inflating: ./content/test/0001TP_009630.png  \n",
      "  inflating: ./content/test/0001TP_009660.png  \n",
      "  inflating: ./content/test/0001TP_009690.png  \n",
      "  inflating: ./content/test/0001TP_009720.png  \n",
      "  inflating: ./content/test/0001TP_009750.png  \n",
      "  inflating: ./content/test/0001TP_009780.png  \n",
      "  inflating: ./content/test/0001TP_009810.png  \n",
      "  inflating: ./content/test/0001TP_009840.png  \n",
      "  inflating: ./content/test/0001TP_009870.png  \n",
      "  inflating: ./content/test/0001TP_009900.png  \n",
      "  inflating: ./content/test/0001TP_009930.png  \n",
      "  inflating: ./content/test/0001TP_009960.png  \n",
      "  inflating: ./content/test/0001TP_009990.png  \n",
      "  inflating: ./content/test/0001TP_010020.png  \n",
      "  inflating: ./content/test/0001TP_010050.png  \n",
      "  inflating: ./content/test/0001TP_010080.png  \n",
      "  inflating: ./content/test/0001TP_010110.png  \n",
      "  inflating: ./content/test/0001TP_010140.png  \n",
      "  inflating: ./content/test/0001TP_010170.png  \n",
      "  inflating: ./content/test/0001TP_010200.png  \n",
      "  inflating: ./content/test/0001TP_010230.png  \n",
      "  inflating: ./content/test/0001TP_010260.png  \n",
      "  inflating: ./content/test/0001TP_010290.png  \n",
      "  inflating: ./content/test/0001TP_010320.png  \n",
      "  inflating: ./content/test/0001TP_010350.png  \n",
      "  inflating: ./content/test/0001TP_010380.png  \n",
      "  inflating: ./content/test/Seq05VD_f00000.png  \n",
      "  inflating: ./content/test/Seq05VD_f00030.png  \n",
      "  inflating: ./content/test/Seq05VD_f00060.png  \n",
      "  inflating: ./content/test/Seq05VD_f00090.png  \n",
      "  inflating: ./content/test/Seq05VD_f00120.png  \n",
      "  inflating: ./content/test/Seq05VD_f00150.png  \n",
      "  inflating: ./content/test/Seq05VD_f00180.png  \n",
      "  inflating: ./content/test/Seq05VD_f00210.png  \n",
      "  inflating: ./content/test/Seq05VD_f00240.png  \n",
      "  inflating: ./content/test/Seq05VD_f00270.png  \n",
      "  inflating: ./content/test/Seq05VD_f00300.png  \n",
      "  inflating: ./content/test/Seq05VD_f00330.png  \n",
      "  inflating: ./content/test/Seq05VD_f00360.png  \n",
      "  inflating: ./content/test/Seq05VD_f00390.png  \n",
      "  inflating: ./content/test/Seq05VD_f00420.png  \n",
      "  inflating: ./content/test/Seq05VD_f00450.png  \n",
      "  inflating: ./content/test/Seq05VD_f00480.png  \n",
      "  inflating: ./content/test/Seq05VD_f00510.png  \n",
      "  inflating: ./content/test/Seq05VD_f00540.png  \n",
      "  inflating: ./content/test/Seq05VD_f00570.png  \n",
      "  inflating: ./content/test/Seq05VD_f00600.png  \n",
      "  inflating: ./content/test/Seq05VD_f00630.png  \n",
      "  inflating: ./content/test/Seq05VD_f00660.png  \n",
      "  inflating: ./content/test/Seq05VD_f00690.png  \n",
      "  inflating: ./content/test/Seq05VD_f00720.png  \n",
      "  inflating: ./content/test/Seq05VD_f00750.png  \n",
      "  inflating: ./content/test/Seq05VD_f00780.png  \n",
      "  inflating: ./content/test/Seq05VD_f00810.png  \n",
      "  inflating: ./content/test/Seq05VD_f00840.png  \n",
      "  inflating: ./content/test/Seq05VD_f00870.png  \n",
      "  inflating: ./content/test/Seq05VD_f00900.png  \n",
      "  inflating: ./content/test/Seq05VD_f00930.png  \n",
      "  inflating: ./content/test/Seq05VD_f00960.png  \n",
      "  inflating: ./content/test/Seq05VD_f00990.png  \n",
      "  inflating: ./content/test/Seq05VD_f01020.png  \n",
      "  inflating: ./content/test/Seq05VD_f01050.png  \n",
      "  inflating: ./content/test/Seq05VD_f01080.png  \n",
      "  inflating: ./content/test/Seq05VD_f01110.png  \n",
      "  inflating: ./content/test/Seq05VD_f01140.png  \n",
      "  inflating: ./content/test/Seq05VD_f01170.png  \n",
      "  inflating: ./content/test/Seq05VD_f01200.png  \n",
      "  inflating: ./content/test/Seq05VD_f01230.png  \n",
      "  inflating: ./content/test/Seq05VD_f01260.png  \n",
      "  inflating: ./content/test/Seq05VD_f01290.png  \n",
      "  inflating: ./content/test/Seq05VD_f01320.png  \n",
      "  inflating: ./content/test/Seq05VD_f01350.png  \n",
      "  inflating: ./content/test/Seq05VD_f01380.png  \n",
      "  inflating: ./content/test/Seq05VD_f01410.png  \n",
      "  inflating: ./content/test/Seq05VD_f01440.png  \n",
      "  inflating: ./content/test/Seq05VD_f01470.png  \n",
      "  inflating: ./content/test/Seq05VD_f01500.png  \n",
      "  inflating: ./content/test/Seq05VD_f01530.png  \n",
      "  inflating: ./content/test/Seq05VD_f01560.png  \n",
      "  inflating: ./content/test/Seq05VD_f01590.png  \n",
      "  inflating: ./content/test/Seq05VD_f01620.png  \n",
      "  inflating: ./content/test/Seq05VD_f01650.png  \n",
      "  inflating: ./content/test/Seq05VD_f01680.png  \n",
      "  inflating: ./content/test/Seq05VD_f01710.png  \n",
      "  inflating: ./content/test/Seq05VD_f01740.png  \n",
      "  inflating: ./content/test/Seq05VD_f01770.png  \n",
      "  inflating: ./content/test/Seq05VD_f01800.png  \n",
      "  inflating: ./content/test/Seq05VD_f01830.png  \n",
      "  inflating: ./content/test/Seq05VD_f01860.png  \n",
      "  inflating: ./content/test/Seq05VD_f01890.png  \n",
      "  inflating: ./content/test/Seq05VD_f01920.png  \n",
      "  inflating: ./content/test/Seq05VD_f01950.png  \n",
      "  inflating: ./content/test/Seq05VD_f01980.png  \n",
      "  inflating: ./content/test/Seq05VD_f02010.png  \n",
      "  inflating: ./content/test/Seq05VD_f02040.png  \n",
      "  inflating: ./content/test/Seq05VD_f02070.png  \n",
      "  inflating: ./content/test/Seq05VD_f02100.png  \n",
      "  inflating: ./content/test/Seq05VD_f02130.png  \n",
      "  inflating: ./content/test/Seq05VD_f02160.png  \n",
      "  inflating: ./content/test/Seq05VD_f02190.png  \n",
      "  inflating: ./content/test/Seq05VD_f02220.png  \n",
      "  inflating: ./content/test/Seq05VD_f02250.png  \n",
      "  inflating: ./content/test/Seq05VD_f02280.png  \n",
      "  inflating: ./content/test/Seq05VD_f02310.png  \n",
      "  inflating: ./content/test/Seq05VD_f02340.png  \n",
      "  inflating: ./content/test/Seq05VD_f02370.png  \n",
      "  inflating: ./content/test/Seq05VD_f02400.png  \n",
      "  inflating: ./content/test/Seq05VD_f02430.png  \n",
      "  inflating: ./content/test/Seq05VD_f02460.png  \n"
     ]
    },
    {
     "name": "stdout",
     "output_type": "stream",
     "text": [
      "  inflating: ./content/test/Seq05VD_f02490.png  \n",
      "  inflating: ./content/test/Seq05VD_f02520.png  \n",
      "  inflating: ./content/test/Seq05VD_f02550.png  \n",
      "  inflating: ./content/test/Seq05VD_f02580.png  \n",
      "  inflating: ./content/test/Seq05VD_f02610.png  \n",
      "  inflating: ./content/test/Seq05VD_f02640.png  \n",
      "  inflating: ./content/test/Seq05VD_f02670.png  \n",
      "  inflating: ./content/test/Seq05VD_f02700.png  \n",
      "  inflating: ./content/test/Seq05VD_f02730.png  \n",
      "  inflating: ./content/test/Seq05VD_f02760.png  \n",
      "  inflating: ./content/test/Seq05VD_f02790.png  \n",
      "  inflating: ./content/test/Seq05VD_f02820.png  \n",
      "  inflating: ./content/test/Seq05VD_f02850.png  \n",
      "  inflating: ./content/test/Seq05VD_f02880.png  \n",
      "  inflating: ./content/test/Seq05VD_f02910.png  \n",
      "  inflating: ./content/test/Seq05VD_f02940.png  \n",
      "  inflating: ./content/test/Seq05VD_f02970.png  \n",
      "  inflating: ./content/test/Seq05VD_f03000.png  \n",
      "  inflating: ./content/test/Seq05VD_f03030.png  \n",
      "  inflating: ./content/test/Seq05VD_f03060.png  \n",
      "  inflating: ./content/test/Seq05VD_f03090.png  \n",
      "  inflating: ./content/test/Seq05VD_f03120.png  \n",
      "  inflating: ./content/test/Seq05VD_f03150.png  \n",
      "  inflating: ./content/test/Seq05VD_f03180.png  \n",
      "  inflating: ./content/test/Seq05VD_f03210.png  \n",
      "  inflating: ./content/test/Seq05VD_f03240.png  \n",
      "  inflating: ./content/test/Seq05VD_f03270.png  \n",
      "  inflating: ./content/test/Seq05VD_f03300.png  \n",
      "  inflating: ./content/test/Seq05VD_f03330.png  \n",
      "  inflating: ./content/test/Seq05VD_f03360.png  \n",
      "  inflating: ./content/test/Seq05VD_f03390.png  \n",
      "  inflating: ./content/test/Seq05VD_f03420.png  \n",
      "  inflating: ./content/test/Seq05VD_f03450.png  \n",
      "  inflating: ./content/test/Seq05VD_f03480.png  \n",
      "  inflating: ./content/test/Seq05VD_f03510.png  \n",
      "  inflating: ./content/test/Seq05VD_f03540.png  \n",
      "  inflating: ./content/test/Seq05VD_f03570.png  \n",
      "  inflating: ./content/test/Seq05VD_f03600.png  \n",
      "  inflating: ./content/test/Seq05VD_f03630.png  \n",
      "  inflating: ./content/test/Seq05VD_f03660.png  \n",
      "  inflating: ./content/test/Seq05VD_f03690.png  \n",
      "  inflating: ./content/test/Seq05VD_f03720.png  \n",
      "  inflating: ./content/test/Seq05VD_f03750.png  \n",
      "  inflating: ./content/test/Seq05VD_f03780.png  \n",
      "  inflating: ./content/test/Seq05VD_f03810.png  \n",
      "  inflating: ./content/test/Seq05VD_f03840.png  \n",
      "  inflating: ./content/test/Seq05VD_f03870.png  \n",
      "  inflating: ./content/test/Seq05VD_f03900.png  \n",
      "  inflating: ./content/test/Seq05VD_f03930.png  \n",
      "  inflating: ./content/test/Seq05VD_f03960.png  \n",
      "  inflating: ./content/test/Seq05VD_f03990.png  \n",
      "  inflating: ./content/test/Seq05VD_f04020.png  \n",
      "  inflating: ./content/test/Seq05VD_f04050.png  \n",
      "  inflating: ./content/test/Seq05VD_f04080.png  \n",
      "  inflating: ./content/test/Seq05VD_f04110.png  \n",
      "  inflating: ./content/test/Seq05VD_f04140.png  \n",
      "  inflating: ./content/test/Seq05VD_f04170.png  \n",
      "  inflating: ./content/test/Seq05VD_f04200.png  \n",
      "  inflating: ./content/test/Seq05VD_f04230.png  \n",
      "  inflating: ./content/test/Seq05VD_f04260.png  \n",
      "  inflating: ./content/test/Seq05VD_f04290.png  \n",
      "  inflating: ./content/test/Seq05VD_f04320.png  \n",
      "  inflating: ./content/test/Seq05VD_f04350.png  \n",
      "  inflating: ./content/test/Seq05VD_f04380.png  \n",
      "  inflating: ./content/test/Seq05VD_f04410.png  \n",
      "  inflating: ./content/test/Seq05VD_f04440.png  \n",
      "  inflating: ./content/test/Seq05VD_f04470.png  \n",
      "  inflating: ./content/test/Seq05VD_f04500.png  \n",
      "  inflating: ./content/test/Seq05VD_f04530.png  \n",
      "  inflating: ./content/test/Seq05VD_f04560.png  \n",
      "  inflating: ./content/test/Seq05VD_f04590.png  \n",
      "  inflating: ./content/test/Seq05VD_f04620.png  \n",
      "  inflating: ./content/test/Seq05VD_f04650.png  \n",
      "  inflating: ./content/test/Seq05VD_f04680.png  \n",
      "  inflating: ./content/test/Seq05VD_f04710.png  \n",
      "  inflating: ./content/test/Seq05VD_f04740.png  \n",
      "  inflating: ./content/test/Seq05VD_f04770.png  \n",
      "  inflating: ./content/test/Seq05VD_f04800.png  \n",
      "  inflating: ./content/test/Seq05VD_f04830.png  \n",
      "  inflating: ./content/test/Seq05VD_f04860.png  \n",
      "  inflating: ./content/test/Seq05VD_f04890.png  \n",
      "  inflating: ./content/test/Seq05VD_f04920.png  \n",
      "  inflating: ./content/test/Seq05VD_f04950.png  \n",
      "  inflating: ./content/test/Seq05VD_f04980.png  \n",
      "  inflating: ./content/test/Seq05VD_f05010.png  \n",
      "  inflating: ./content/test/Seq05VD_f05040.png  \n",
      "  inflating: ./content/test/Seq05VD_f05070.png  \n",
      "  inflating: ./content/test/Seq05VD_f05100.png  \n",
      "  inflating: ./content/testannot/0001TP_008550.png  \n",
      "  inflating: ./content/testannot/0001TP_008580.png  \n",
      "  inflating: ./content/testannot/0001TP_008610.png  \n",
      "  inflating: ./content/testannot/0001TP_008640.png  \n",
      "  inflating: ./content/testannot/0001TP_008670.png  \n",
      "  inflating: ./content/testannot/0001TP_008700.png  \n",
      "  inflating: ./content/testannot/0001TP_008730.png  \n",
      "  inflating: ./content/testannot/0001TP_008760.png  \n",
      "  inflating: ./content/testannot/0001TP_008790.png  \n",
      "  inflating: ./content/testannot/0001TP_008820.png  \n",
      "  inflating: ./content/testannot/0001TP_008850.png  \n",
      "  inflating: ./content/testannot/0001TP_008880.png  \n",
      "  inflating: ./content/testannot/0001TP_008910.png  \n",
      "  inflating: ./content/testannot/0001TP_008940.png  \n",
      "  inflating: ./content/testannot/0001TP_008970.png  \n",
      "  inflating: ./content/testannot/0001TP_009000.png  \n",
      "  inflating: ./content/testannot/0001TP_009030.png  \n",
      "  inflating: ./content/testannot/0001TP_009060.png  \n",
      "  inflating: ./content/testannot/0001TP_009090.png  \n",
      "  inflating: ./content/testannot/0001TP_009120.png  \n",
      "  inflating: ./content/testannot/0001TP_009150.png  \n",
      "  inflating: ./content/testannot/0001TP_009180.png  \n",
      "  inflating: ./content/testannot/0001TP_009210.png  \n",
      "  inflating: ./content/testannot/0001TP_009240.png  \n",
      "  inflating: ./content/testannot/0001TP_009270.png  \n",
      "  inflating: ./content/testannot/0001TP_009300.png  \n",
      "  inflating: ./content/testannot/0001TP_009330.png  \n",
      "  inflating: ./content/testannot/0001TP_009360.png  \n",
      "  inflating: ./content/testannot/0001TP_009390.png  \n",
      "  inflating: ./content/testannot/0001TP_009420.png  \n",
      "  inflating: ./content/testannot/0001TP_009450.png  \n",
      "  inflating: ./content/testannot/0001TP_009480.png  \n",
      "  inflating: ./content/testannot/0001TP_009510.png  \n",
      "  inflating: ./content/testannot/0001TP_009540.png  \n",
      "  inflating: ./content/testannot/0001TP_009570.png  \n",
      "  inflating: ./content/testannot/0001TP_009600.png  \n",
      "  inflating: ./content/testannot/0001TP_009630.png  \n",
      "  inflating: ./content/testannot/0001TP_009660.png  \n",
      "  inflating: ./content/testannot/0001TP_009690.png  \n",
      "  inflating: ./content/testannot/0001TP_009720.png  \n",
      "  inflating: ./content/testannot/0001TP_009750.png  \n",
      "  inflating: ./content/testannot/0001TP_009780.png  \n",
      "  inflating: ./content/testannot/0001TP_009810.png  \n",
      "  inflating: ./content/testannot/0001TP_009840.png  \n",
      "  inflating: ./content/testannot/0001TP_009870.png  \n",
      "  inflating: ./content/testannot/0001TP_009900.png  \n",
      "  inflating: ./content/testannot/0001TP_009930.png  \n",
      "  inflating: ./content/testannot/0001TP_009960.png  \n",
      "  inflating: ./content/testannot/0001TP_009990.png  \n",
      "  inflating: ./content/testannot/0001TP_010020.png  \n",
      "  inflating: ./content/testannot/0001TP_010050.png  \n",
      "  inflating: ./content/testannot/0001TP_010080.png  \n",
      "  inflating: ./content/testannot/0001TP_010110.png  \n",
      "  inflating: ./content/testannot/0001TP_010140.png  \n",
      "  inflating: ./content/testannot/0001TP_010170.png  \n",
      "  inflating: ./content/testannot/0001TP_010200.png  \n",
      "  inflating: ./content/testannot/0001TP_010230.png  \n",
      "  inflating: ./content/testannot/0001TP_010260.png  \n",
      "  inflating: ./content/testannot/0001TP_010290.png  \n",
      "  inflating: ./content/testannot/0001TP_010320.png  \n",
      "  inflating: ./content/testannot/0001TP_010350.png  \n",
      "  inflating: ./content/testannot/0001TP_010380.png  \n",
      "  inflating: ./content/testannot/Seq05VD_f00000.png  \n",
      "  inflating: ./content/testannot/Seq05VD_f00030.png  \n",
      "  inflating: ./content/testannot/Seq05VD_f00060.png  \n",
      "  inflating: ./content/testannot/Seq05VD_f00090.png  \n",
      "  inflating: ./content/testannot/Seq05VD_f00120.png  \n",
      "  inflating: ./content/testannot/Seq05VD_f00150.png  \n",
      "  inflating: ./content/testannot/Seq05VD_f00180.png  \n",
      "  inflating: ./content/testannot/Seq05VD_f00210.png  \n",
      "  inflating: ./content/testannot/Seq05VD_f00240.png  \n",
      "  inflating: ./content/testannot/Seq05VD_f00270.png  \n",
      "  inflating: ./content/testannot/Seq05VD_f00300.png  \n",
      "  inflating: ./content/testannot/Seq05VD_f00330.png  \n",
      "  inflating: ./content/testannot/Seq05VD_f00360.png  \n",
      "  inflating: ./content/testannot/Seq05VD_f00390.png  \n",
      "  inflating: ./content/testannot/Seq05VD_f00420.png  \n",
      "  inflating: ./content/testannot/Seq05VD_f00450.png  \n",
      "  inflating: ./content/testannot/Seq05VD_f00480.png  \n",
      "  inflating: ./content/testannot/Seq05VD_f00510.png  \n",
      "  inflating: ./content/testannot/Seq05VD_f00540.png  \n",
      "  inflating: ./content/testannot/Seq05VD_f00570.png  \n",
      "  inflating: ./content/testannot/Seq05VD_f00600.png  \n",
      "  inflating: ./content/testannot/Seq05VD_f00630.png  \n",
      "  inflating: ./content/testannot/Seq05VD_f00660.png  \n",
      "  inflating: ./content/testannot/Seq05VD_f00690.png  \n",
      "  inflating: ./content/testannot/Seq05VD_f00720.png  \n",
      "  inflating: ./content/testannot/Seq05VD_f00750.png  \n",
      "  inflating: ./content/testannot/Seq05VD_f00780.png  \n",
      "  inflating: ./content/testannot/Seq05VD_f00810.png  \n",
      "  inflating: ./content/testannot/Seq05VD_f00840.png  \n",
      "  inflating: ./content/testannot/Seq05VD_f00870.png  \n",
      "  inflating: ./content/testannot/Seq05VD_f00900.png  \n",
      "  inflating: ./content/testannot/Seq05VD_f00930.png  \n",
      "  inflating: ./content/testannot/Seq05VD_f00960.png  \n",
      "  inflating: ./content/testannot/Seq05VD_f00990.png  \n",
      "  inflating: ./content/testannot/Seq05VD_f01020.png  \n",
      "  inflating: ./content/testannot/Seq05VD_f01050.png  \n",
      "  inflating: ./content/testannot/Seq05VD_f01080.png  \n",
      "  inflating: ./content/testannot/Seq05VD_f01110.png  \n",
      "  inflating: ./content/testannot/Seq05VD_f01140.png  \n",
      "  inflating: ./content/testannot/Seq05VD_f01170.png  \n",
      "  inflating: ./content/testannot/Seq05VD_f01200.png  \n",
      "  inflating: ./content/testannot/Seq05VD_f01230.png  \n",
      "  inflating: ./content/testannot/Seq05VD_f01260.png  \n",
      "  inflating: ./content/testannot/Seq05VD_f01290.png  \n",
      "  inflating: ./content/testannot/Seq05VD_f01320.png  \n",
      "  inflating: ./content/testannot/Seq05VD_f01350.png  \n",
      "  inflating: ./content/testannot/Seq05VD_f01380.png  \n",
      "  inflating: ./content/testannot/Seq05VD_f01410.png  \n",
      "  inflating: ./content/testannot/Seq05VD_f01440.png  \n",
      "  inflating: ./content/testannot/Seq05VD_f01470.png  \n",
      "  inflating: ./content/testannot/Seq05VD_f01500.png  \n",
      "  inflating: ./content/testannot/Seq05VD_f01530.png  \n",
      "  inflating: ./content/testannot/Seq05VD_f01560.png  \n",
      "  inflating: ./content/testannot/Seq05VD_f01590.png  \n",
      "  inflating: ./content/testannot/Seq05VD_f01620.png  \n",
      "  inflating: ./content/testannot/Seq05VD_f01650.png  \n",
      "  inflating: ./content/testannot/Seq05VD_f01680.png  \n",
      "  inflating: ./content/testannot/Seq05VD_f01710.png  \n",
      "  inflating: ./content/testannot/Seq05VD_f01740.png  \n",
      "  inflating: ./content/testannot/Seq05VD_f01770.png  \n",
      "  inflating: ./content/testannot/Seq05VD_f01800.png  \n",
      "  inflating: ./content/testannot/Seq05VD_f01830.png  \n",
      "  inflating: ./content/testannot/Seq05VD_f01860.png  \n",
      "  inflating: ./content/testannot/Seq05VD_f01890.png  \n",
      "  inflating: ./content/testannot/Seq05VD_f01920.png  \n",
      "  inflating: ./content/testannot/Seq05VD_f01950.png  \n",
      "  inflating: ./content/testannot/Seq05VD_f01980.png  \n",
      "  inflating: ./content/testannot/Seq05VD_f02010.png  \n",
      "  inflating: ./content/testannot/Seq05VD_f02040.png  \n",
      "  inflating: ./content/testannot/Seq05VD_f02070.png  \n",
      "  inflating: ./content/testannot/Seq05VD_f02100.png  \n",
      "  inflating: ./content/testannot/Seq05VD_f02130.png  \n",
      "  inflating: ./content/testannot/Seq05VD_f02160.png  \n",
      "  inflating: ./content/testannot/Seq05VD_f02190.png  \n",
      "  inflating: ./content/testannot/Seq05VD_f02220.png  \n",
      "  inflating: ./content/testannot/Seq05VD_f02250.png  \n",
      "  inflating: ./content/testannot/Seq05VD_f02280.png  \n",
      "  inflating: ./content/testannot/Seq05VD_f02310.png  \n",
      "  inflating: ./content/testannot/Seq05VD_f02340.png  \n",
      "  inflating: ./content/testannot/Seq05VD_f02370.png  \n",
      "  inflating: ./content/testannot/Seq05VD_f02400.png  \n",
      "  inflating: ./content/testannot/Seq05VD_f02430.png  \n",
      "  inflating: ./content/testannot/Seq05VD_f02460.png  \n",
      "  inflating: ./content/testannot/Seq05VD_f02490.png  \n",
      "  inflating: ./content/testannot/Seq05VD_f02520.png  \n",
      "  inflating: ./content/testannot/Seq05VD_f02550.png  \n",
      "  inflating: ./content/testannot/Seq05VD_f02580.png  \n",
      "  inflating: ./content/testannot/Seq05VD_f02610.png  \n",
      "  inflating: ./content/testannot/Seq05VD_f02640.png  \n",
      "  inflating: ./content/testannot/Seq05VD_f02670.png  \n",
      "  inflating: ./content/testannot/Seq05VD_f02700.png  \n",
      "  inflating: ./content/testannot/Seq05VD_f02730.png  \n",
      "  inflating: ./content/testannot/Seq05VD_f02760.png  \n",
      "  inflating: ./content/testannot/Seq05VD_f02790.png  \n",
      "  inflating: ./content/testannot/Seq05VD_f02820.png  \n",
      "  inflating: ./content/testannot/Seq05VD_f02850.png  \n",
      "  inflating: ./content/testannot/Seq05VD_f02880.png  \n",
      "  inflating: ./content/testannot/Seq05VD_f02910.png  \n",
      "  inflating: ./content/testannot/Seq05VD_f02940.png  \n",
      "  inflating: ./content/testannot/Seq05VD_f02970.png  \n",
      "  inflating: ./content/testannot/Seq05VD_f03000.png  \n",
      "  inflating: ./content/testannot/Seq05VD_f03030.png  \n",
      "  inflating: ./content/testannot/Seq05VD_f03060.png  \n",
      "  inflating: ./content/testannot/Seq05VD_f03090.png  \n",
      "  inflating: ./content/testannot/Seq05VD_f03120.png  \n",
      "  inflating: ./content/testannot/Seq05VD_f03150.png  \n",
      "  inflating: ./content/testannot/Seq05VD_f03180.png  \n",
      "  inflating: ./content/testannot/Seq05VD_f03210.png  \n",
      "  inflating: ./content/testannot/Seq05VD_f03240.png  \n",
      "  inflating: ./content/testannot/Seq05VD_f03270.png  \n",
      "  inflating: ./content/testannot/Seq05VD_f03300.png  \n",
      "  inflating: ./content/testannot/Seq05VD_f03330.png  \n",
      "  inflating: ./content/testannot/Seq05VD_f03360.png  \n",
      "  inflating: ./content/testannot/Seq05VD_f03390.png  \n",
      "  inflating: ./content/testannot/Seq05VD_f03420.png  \n",
      "  inflating: ./content/testannot/Seq05VD_f03450.png  \n",
      "  inflating: ./content/testannot/Seq05VD_f03480.png  \n",
      "  inflating: ./content/testannot/Seq05VD_f03510.png  \n",
      "  inflating: ./content/testannot/Seq05VD_f03540.png  \n",
      "  inflating: ./content/testannot/Seq05VD_f03570.png  \n",
      "  inflating: ./content/testannot/Seq05VD_f03600.png  \n",
      "  inflating: ./content/testannot/Seq05VD_f03630.png  \n",
      "  inflating: ./content/testannot/Seq05VD_f03660.png  \n",
      "  inflating: ./content/testannot/Seq05VD_f03690.png  \n",
      "  inflating: ./content/testannot/Seq05VD_f03720.png  \n",
      "  inflating: ./content/testannot/Seq05VD_f03750.png  \n",
      "  inflating: ./content/testannot/Seq05VD_f03780.png  \n",
      "  inflating: ./content/testannot/Seq05VD_f03810.png  \n",
      "  inflating: ./content/testannot/Seq05VD_f03840.png  \n",
      "  inflating: ./content/testannot/Seq05VD_f03870.png  \n",
      "  inflating: ./content/testannot/Seq05VD_f03900.png  \n",
      "  inflating: ./content/testannot/Seq05VD_f03930.png  \n",
      "  inflating: ./content/testannot/Seq05VD_f03960.png  \n",
      "  inflating: ./content/testannot/Seq05VD_f03990.png  \n",
      "  inflating: ./content/testannot/Seq05VD_f04020.png  \n",
      "  inflating: ./content/testannot/Seq05VD_f04050.png  \n",
      "  inflating: ./content/testannot/Seq05VD_f04080.png  \n",
      "  inflating: ./content/testannot/Seq05VD_f04110.png  \n",
      "  inflating: ./content/testannot/Seq05VD_f04140.png  \n",
      "  inflating: ./content/testannot/Seq05VD_f04170.png  \n",
      "  inflating: ./content/testannot/Seq05VD_f04200.png  \n",
      "  inflating: ./content/testannot/Seq05VD_f04230.png  \n",
      "  inflating: ./content/testannot/Seq05VD_f04260.png  \n",
      "  inflating: ./content/testannot/Seq05VD_f04290.png  \n",
      "  inflating: ./content/testannot/Seq05VD_f04320.png  \n",
      "  inflating: ./content/testannot/Seq05VD_f04350.png  \n",
      "  inflating: ./content/testannot/Seq05VD_f04380.png  \n",
      "  inflating: ./content/testannot/Seq05VD_f04410.png  \n",
      "  inflating: ./content/testannot/Seq05VD_f04440.png  \n",
      "  inflating: ./content/testannot/Seq05VD_f04470.png  \n",
      "  inflating: ./content/testannot/Seq05VD_f04500.png  \n",
      "  inflating: ./content/testannot/Seq05VD_f04530.png  \n",
      "  inflating: ./content/testannot/Seq05VD_f04560.png  \n",
      "  inflating: ./content/testannot/Seq05VD_f04590.png  \n",
      "  inflating: ./content/testannot/Seq05VD_f04620.png  \n",
      "  inflating: ./content/testannot/Seq05VD_f04650.png  \n",
      "  inflating: ./content/testannot/Seq05VD_f04680.png  \n",
      "  inflating: ./content/testannot/Seq05VD_f04710.png  \n",
      "  inflating: ./content/testannot/Seq05VD_f04740.png  \n",
      "  inflating: ./content/testannot/Seq05VD_f04770.png  \n",
      "  inflating: ./content/testannot/Seq05VD_f04800.png  \n",
      "  inflating: ./content/testannot/Seq05VD_f04830.png  \n",
      "  inflating: ./content/testannot/Seq05VD_f04860.png  \n",
      "  inflating: ./content/testannot/Seq05VD_f04890.png  \n",
      "  inflating: ./content/testannot/Seq05VD_f04920.png  \n",
      "  inflating: ./content/testannot/Seq05VD_f04950.png  \n",
      "  inflating: ./content/testannot/Seq05VD_f04980.png  \n",
      "  inflating: ./content/testannot/Seq05VD_f05010.png  \n",
      "  inflating: ./content/testannot/Seq05VD_f05040.png  \n",
      "  inflating: ./content/testannot/Seq05VD_f05070.png  \n",
      "  inflating: ./content/testannot/Seq05VD_f05100.png  \n",
      "  inflating: ./content/train/0001TP_006690.png  \n",
      "  inflating: ./content/train/0001TP_006720.png  \n",
      "  inflating: ./content/train/0001TP_006750.png  \n",
      "  inflating: ./content/train/0001TP_006780.png  \n",
      "  inflating: ./content/train/0001TP_006810.png  \n",
      "  inflating: ./content/train/0001TP_006840.png  \n",
      "  inflating: ./content/train/0001TP_006870.png  \n",
      "  inflating: ./content/train/0001TP_006900.png  \n",
      "  inflating: ./content/train/0001TP_006930.png  \n",
      "  inflating: ./content/train/0001TP_006960.png  \n",
      "  inflating: ./content/train/0001TP_006990.png  \n",
      "  inflating: ./content/train/0001TP_007020.png  \n",
      "  inflating: ./content/train/0001TP_007050.png  \n"
     ]
    },
    {
     "name": "stdout",
     "output_type": "stream",
     "text": [
      "  inflating: ./content/train/0001TP_007080.png  \n",
      "  inflating: ./content/train/0001TP_007110.png  \n",
      "  inflating: ./content/train/0001TP_007140.png  \n",
      "  inflating: ./content/train/0001TP_007170.png  \n",
      "  inflating: ./content/train/0001TP_007200.png  \n",
      "  inflating: ./content/train/0001TP_007230.png  \n",
      "  inflating: ./content/train/0001TP_007260.png  \n",
      "  inflating: ./content/train/0001TP_007290.png  \n",
      "  inflating: ./content/train/0001TP_007320.png  \n",
      "  inflating: ./content/train/0001TP_007350.png  \n",
      "  inflating: ./content/train/0001TP_007380.png  \n",
      "  inflating: ./content/train/0001TP_007410.png  \n",
      "  inflating: ./content/train/0001TP_007440.png  \n",
      "  inflating: ./content/train/0001TP_007470.png  \n",
      "  inflating: ./content/train/0001TP_007500.png  \n",
      "  inflating: ./content/train/0001TP_007530.png  \n",
      "  inflating: ./content/train/0001TP_007560.png  \n",
      "  inflating: ./content/train/0001TP_007590.png  \n",
      "  inflating: ./content/train/0001TP_007620.png  \n",
      "  inflating: ./content/train/0001TP_007650.png  \n",
      "  inflating: ./content/train/0001TP_007680.png  \n",
      "  inflating: ./content/train/0001TP_007710.png  \n",
      "  inflating: ./content/train/0001TP_007740.png  \n",
      "  inflating: ./content/train/0001TP_007770.png  \n",
      "  inflating: ./content/train/0001TP_007800.png  \n",
      "  inflating: ./content/train/0001TP_007830.png  \n",
      "  inflating: ./content/train/0001TP_007860.png  \n",
      "  inflating: ./content/train/0001TP_007890.png  \n",
      "  inflating: ./content/train/0001TP_007920.png  \n",
      "  inflating: ./content/train/0001TP_007950.png  \n",
      "  inflating: ./content/train/0001TP_007980.png  \n",
      "  inflating: ./content/train/0001TP_008010.png  \n",
      "  inflating: ./content/train/0001TP_008040.png  \n",
      "  inflating: ./content/train/0001TP_008070.png  \n",
      "  inflating: ./content/train/0001TP_008100.png  \n",
      "  inflating: ./content/train/0001TP_008130.png  \n",
      "  inflating: ./content/train/0001TP_008160.png  \n",
      "  inflating: ./content/train/0001TP_008190.png  \n",
      "  inflating: ./content/train/0001TP_008220.png  \n",
      "  inflating: ./content/train/0001TP_008250.png  \n",
      "  inflating: ./content/train/0001TP_008280.png  \n",
      "  inflating: ./content/train/0001TP_008310.png  \n",
      "  inflating: ./content/train/0001TP_008340.png  \n",
      "  inflating: ./content/train/0001TP_008370.png  \n",
      "  inflating: ./content/train/0001TP_008400.png  \n",
      "  inflating: ./content/train/0001TP_008430.png  \n",
      "  inflating: ./content/train/0001TP_008460.png  \n",
      "  inflating: ./content/train/0001TP_008490.png  \n",
      "  inflating: ./content/train/0001TP_008520.png  \n",
      "  inflating: ./content/train/0006R0_f00930.png  \n",
      "  inflating: ./content/train/0006R0_f00960.png  \n",
      "  inflating: ./content/train/0006R0_f00990.png  \n",
      "  inflating: ./content/train/0006R0_f01020.png  \n",
      "  inflating: ./content/train/0006R0_f01050.png  \n",
      "  inflating: ./content/train/0006R0_f01080.png  \n",
      "  inflating: ./content/train/0006R0_f01110.png  \n",
      "  inflating: ./content/train/0006R0_f01140.png  \n",
      "  inflating: ./content/train/0006R0_f01170.png  \n",
      "  inflating: ./content/train/0006R0_f01200.png  \n",
      "  inflating: ./content/train/0006R0_f01230.png  \n",
      "  inflating: ./content/train/0006R0_f01260.png  \n",
      "  inflating: ./content/train/0006R0_f01290.png  \n",
      "  inflating: ./content/train/0006R0_f01320.png  \n",
      "  inflating: ./content/train/0006R0_f01350.png  \n",
      "  inflating: ./content/train/0006R0_f01380.png  \n",
      "  inflating: ./content/train/0006R0_f01410.png  \n",
      "  inflating: ./content/train/0006R0_f01440.png  \n",
      "  inflating: ./content/train/0006R0_f01470.png  \n",
      "  inflating: ./content/train/0006R0_f01500.png  \n",
      "  inflating: ./content/train/0006R0_f01530.png  \n",
      "  inflating: ./content/train/0006R0_f01560.png  \n",
      "  inflating: ./content/train/0006R0_f01590.png  \n",
      "  inflating: ./content/train/0006R0_f01620.png  \n",
      "  inflating: ./content/train/0006R0_f01650.png  \n",
      "  inflating: ./content/train/0006R0_f01680.png  \n",
      "  inflating: ./content/train/0006R0_f01710.png  \n",
      "  inflating: ./content/train/0006R0_f01740.png  \n",
      "  inflating: ./content/train/0006R0_f01770.png  \n",
      "  inflating: ./content/train/0006R0_f01800.png  \n",
      "  inflating: ./content/train/0006R0_f01830.png  \n",
      "  inflating: ./content/train/0006R0_f01860.png  \n",
      "  inflating: ./content/train/0006R0_f01890.png  \n",
      "  inflating: ./content/train/0006R0_f01920.png  \n",
      "  inflating: ./content/train/0006R0_f01950.png  \n",
      "  inflating: ./content/train/0006R0_f01980.png  \n",
      "  inflating: ./content/train/0006R0_f02010.png  \n",
      "  inflating: ./content/train/0006R0_f02040.png  \n",
      "  inflating: ./content/train/0006R0_f02070.png  \n",
      "  inflating: ./content/train/0006R0_f02100.png  \n",
      "  inflating: ./content/train/0006R0_f02130.png  \n",
      "  inflating: ./content/train/0006R0_f02160.png  \n",
      "  inflating: ./content/train/0006R0_f02190.png  \n",
      "  inflating: ./content/train/0006R0_f02220.png  \n",
      "  inflating: ./content/train/0006R0_f02250.png  \n",
      "  inflating: ./content/train/0006R0_f02280.png  \n",
      "  inflating: ./content/train/0006R0_f02310.png  \n",
      "  inflating: ./content/train/0006R0_f02340.png  \n",
      "  inflating: ./content/train/0006R0_f02370.png  \n",
      "  inflating: ./content/train/0006R0_f02400.png  \n",
      "  inflating: ./content/train/0006R0_f02430.png  \n",
      "  inflating: ./content/train/0006R0_f02460.png  \n",
      "  inflating: ./content/train/0006R0_f02490.png  \n",
      "  inflating: ./content/train/0006R0_f02520.png  \n",
      "  inflating: ./content/train/0006R0_f02550.png  \n",
      "  inflating: ./content/train/0006R0_f02580.png  \n",
      "  inflating: ./content/train/0006R0_f02610.png  \n",
      "  inflating: ./content/train/0006R0_f02640.png  \n",
      "  inflating: ./content/train/0006R0_f02670.png  \n",
      "  inflating: ./content/train/0006R0_f02700.png  \n",
      "  inflating: ./content/train/0006R0_f02730.png  \n",
      "  inflating: ./content/train/0006R0_f02760.png  \n",
      "  inflating: ./content/train/0006R0_f02790.png  \n",
      "  inflating: ./content/train/0006R0_f02820.png  \n",
      "  inflating: ./content/train/0006R0_f02850.png  \n",
      "  inflating: ./content/train/0006R0_f02880.png  \n",
      "  inflating: ./content/train/0006R0_f02910.png  \n",
      "  inflating: ./content/train/0006R0_f02940.png  \n",
      "  inflating: ./content/train/0006R0_f02970.png  \n",
      "  inflating: ./content/train/0006R0_f03000.png  \n",
      "  inflating: ./content/train/0006R0_f03030.png  \n",
      "  inflating: ./content/train/0006R0_f03060.png  \n",
      "  inflating: ./content/train/0006R0_f03090.png  \n",
      "  inflating: ./content/train/0006R0_f03120.png  \n",
      "  inflating: ./content/train/0006R0_f03150.png  \n",
      "  inflating: ./content/train/0006R0_f03180.png  \n",
      "  inflating: ./content/train/0006R0_f03210.png  \n",
      "  inflating: ./content/train/0006R0_f03240.png  \n",
      "  inflating: ./content/train/0006R0_f03270.png  \n",
      "  inflating: ./content/train/0006R0_f03300.png  \n",
      "  inflating: ./content/train/0006R0_f03330.png  \n",
      "  inflating: ./content/train/0006R0_f03360.png  \n",
      "  inflating: ./content/train/0006R0_f03390.png  \n",
      "  inflating: ./content/train/0006R0_f03420.png  \n",
      "  inflating: ./content/train/0006R0_f03450.png  \n",
      "  inflating: ./content/train/0006R0_f03480.png  \n",
      "  inflating: ./content/train/0006R0_f03510.png  \n",
      "  inflating: ./content/train/0006R0_f03540.png  \n",
      "  inflating: ./content/train/0006R0_f03570.png  \n",
      "  inflating: ./content/train/0006R0_f03600.png  \n",
      "  inflating: ./content/train/0006R0_f03630.png  \n",
      "  inflating: ./content/train/0006R0_f03660.png  \n",
      "  inflating: ./content/train/0006R0_f03690.png  \n",
      "  inflating: ./content/train/0006R0_f03720.png  \n",
      "  inflating: ./content/train/0006R0_f03750.png  \n",
      "  inflating: ./content/train/0006R0_f03780.png  \n",
      "  inflating: ./content/train/0006R0_f03810.png  \n",
      "  inflating: ./content/train/0006R0_f03840.png  \n",
      "  inflating: ./content/train/0006R0_f03870.png  \n",
      "  inflating: ./content/train/0006R0_f03900.png  \n",
      "  inflating: ./content/train/0006R0_f03930.png  \n",
      "  inflating: ./content/train/0016E5_00390.png  \n",
      "  inflating: ./content/train/0016E5_00420.png  \n",
      "  inflating: ./content/train/0016E5_00450.png  \n",
      "  inflating: ./content/train/0016E5_00480.png  \n",
      "  inflating: ./content/train/0016E5_00510.png  \n",
      "  inflating: ./content/train/0016E5_00540.png  \n",
      "  inflating: ./content/train/0016E5_00570.png  \n",
      "  inflating: ./content/train/0016E5_00600.png  \n",
      "  inflating: ./content/train/0016E5_00630.png  \n",
      "  inflating: ./content/train/0016E5_00660.png  \n",
      "  inflating: ./content/train/0016E5_00690.png  \n",
      "  inflating: ./content/train/0016E5_00720.png  \n",
      "  inflating: ./content/train/0016E5_00750.png  \n",
      "  inflating: ./content/train/0016E5_00780.png  \n",
      "  inflating: ./content/train/0016E5_00810.png  \n",
      "  inflating: ./content/train/0016E5_00840.png  \n",
      "  inflating: ./content/train/0016E5_00870.png  \n",
      "  inflating: ./content/train/0016E5_00901.png  \n",
      "  inflating: ./content/train/0016E5_00930.png  \n",
      "  inflating: ./content/train/0016E5_00960.png  \n",
      "  inflating: ./content/train/0016E5_00990.png  \n",
      "  inflating: ./content/train/0016E5_01020.png  \n",
      "  inflating: ./content/train/0016E5_01050.png  \n",
      "  inflating: ./content/train/0016E5_01080.png  \n",
      "  inflating: ./content/train/0016E5_01110.png  \n",
      "  inflating: ./content/train/0016E5_01140.png  \n",
      "  inflating: ./content/train/0016E5_01170.png  \n",
      "  inflating: ./content/train/0016E5_01200.png  \n",
      "  inflating: ./content/train/0016E5_01230.png  \n",
      "  inflating: ./content/train/0016E5_01260.png  \n",
      "  inflating: ./content/train/0016E5_01290.png  \n",
      "  inflating: ./content/train/0016E5_01320.png  \n",
      "  inflating: ./content/train/0016E5_01350.png  \n",
      "  inflating: ./content/train/0016E5_01380.png  \n",
      "  inflating: ./content/train/0016E5_01410.png  \n",
      "  inflating: ./content/train/0016E5_01440.png  \n",
      "  inflating: ./content/train/0016E5_01470.png  \n",
      "  inflating: ./content/train/0016E5_01500.png  \n",
      "  inflating: ./content/train/0016E5_01530.png  \n",
      "  inflating: ./content/train/0016E5_01560.png  \n",
      "  inflating: ./content/train/0016E5_01590.png  \n",
      "  inflating: ./content/train/0016E5_01620.png  \n",
      "  inflating: ./content/train/0016E5_01650.png  \n",
      "  inflating: ./content/train/0016E5_01680.png  \n"
     ]
    },
    {
     "name": "stdout",
     "output_type": "stream",
     "text": [
      "  inflating: ./content/train/0016E5_01710.png  \n",
      "  inflating: ./content/train/0016E5_01740.png  \n",
      "  inflating: ./content/train/0016E5_01770.png  \n",
      "  inflating: ./content/train/0016E5_01800.png  \n",
      "  inflating: ./content/train/0016E5_01830.png  \n",
      "  inflating: ./content/train/0016E5_01860.png  \n",
      "  inflating: ./content/train/0016E5_01890.png  \n",
      "  inflating: ./content/train/0016E5_01920.png  \n",
      "  inflating: ./content/train/0016E5_01950.png  \n",
      "  inflating: ./content/train/0016E5_01980.png  \n",
      "  inflating: ./content/train/0016E5_02010.png  \n",
      "  inflating: ./content/train/0016E5_02040.png  \n",
      "  inflating: ./content/train/0016E5_02070.png  \n",
      "  inflating: ./content/train/0016E5_02100.png  \n",
      "  inflating: ./content/train/0016E5_02130.png  \n",
      "  inflating: ./content/train/0016E5_02160.png  \n",
      "  inflating: ./content/train/0016E5_02190.png  \n",
      "  inflating: ./content/train/0016E5_02220.png  \n",
      "  inflating: ./content/train/0016E5_02250.png  \n",
      "  inflating: ./content/train/0016E5_02280.png  \n",
      "  inflating: ./content/train/0016E5_02310.png  \n",
      "  inflating: ./content/train/0016E5_02340.png  \n",
      "  inflating: ./content/train/0016E5_02370.png  \n",
      "  inflating: ./content/train/0016E5_02400.png  \n",
      "  inflating: ./content/train/0016E5_04350.png  \n",
      "  inflating: ./content/train/0016E5_04380.png  \n",
      "  inflating: ./content/train/0016E5_04410.png  \n",
      "  inflating: ./content/train/0016E5_04440.png  \n",
      "  inflating: ./content/train/0016E5_04470.png  \n",
      "  inflating: ./content/train/0016E5_04500.png  \n",
      "  inflating: ./content/train/0016E5_04530.png  \n",
      "  inflating: ./content/train/0016E5_04560.png  \n",
      "  inflating: ./content/train/0016E5_04590.png  \n",
      "  inflating: ./content/train/0016E5_04620.png  \n",
      "  inflating: ./content/train/0016E5_04650.png  \n",
      "  inflating: ./content/train/0016E5_04680.png  \n",
      "  inflating: ./content/train/0016E5_04710.png  \n",
      "  inflating: ./content/train/0016E5_04740.png  \n",
      "  inflating: ./content/train/0016E5_04770.png  \n",
      "  inflating: ./content/train/0016E5_04800.png  \n",
      "  inflating: ./content/train/0016E5_04830.png  \n",
      "  inflating: ./content/train/0016E5_04860.png  \n",
      "  inflating: ./content/train/0016E5_04890.png  \n",
      "  inflating: ./content/train/0016E5_04920.png  \n",
      "  inflating: ./content/train/0016E5_04950.png  \n",
      "  inflating: ./content/train/0016E5_04980.png  \n",
      "  inflating: ./content/train/0016E5_05010.png  \n",
      "  inflating: ./content/train/0016E5_05040.png  \n",
      "  inflating: ./content/train/0016E5_05070.png  \n",
      "  inflating: ./content/train/0016E5_05100.png  \n",
      "  inflating: ./content/train/0016E5_05130.png  \n",
      "  inflating: ./content/train/0016E5_05160.png  \n",
      "  inflating: ./content/train/0016E5_05190.png  \n",
      "  inflating: ./content/train/0016E5_05220.png  \n",
      "  inflating: ./content/train/0016E5_05250.png  \n",
      "  inflating: ./content/train/0016E5_05280.png  \n",
      "  inflating: ./content/train/0016E5_05310.png  \n",
      "  inflating: ./content/train/0016E5_05340.png  \n",
      "  inflating: ./content/train/0016E5_05370.png  \n",
      "  inflating: ./content/train/0016E5_05400.png  \n",
      "  inflating: ./content/train/0016E5_05430.png  \n",
      "  inflating: ./content/train/0016E5_05460.png  \n",
      "  inflating: ./content/train/0016E5_05490.png  \n",
      "  inflating: ./content/train/0016E5_05520.png  \n",
      "  inflating: ./content/train/0016E5_05550.png  \n",
      "  inflating: ./content/train/0016E5_05580.png  \n",
      "  inflating: ./content/train/0016E5_05610.png  \n",
      "  inflating: ./content/train/0016E5_05640.png  \n",
      "  inflating: ./content/train/0016E5_05670.png  \n",
      "  inflating: ./content/train/0016E5_05700.png  \n",
      "  inflating: ./content/train/0016E5_05730.png  \n",
      "  inflating: ./content/train/0016E5_05760.png  \n",
      "  inflating: ./content/train/0016E5_05790.png  \n",
      "  inflating: ./content/train/0016E5_05820.png  \n",
      "  inflating: ./content/train/0016E5_05850.png  \n",
      "  inflating: ./content/train/0016E5_05880.png  \n",
      "  inflating: ./content/train/0016E5_05910.png  \n",
      "  inflating: ./content/train/0016E5_05940.png  \n",
      "  inflating: ./content/train/0016E5_05970.png  \n",
      "  inflating: ./content/train/0016E5_06000.png  \n",
      "  inflating: ./content/train/0016E5_06030.png  \n",
      "  inflating: ./content/train/0016E5_06060.png  \n",
      "  inflating: ./content/train/0016E5_06090.png  \n",
      "  inflating: ./content/train/0016E5_06120.png  \n",
      "  inflating: ./content/train/0016E5_06150.png  \n",
      "  inflating: ./content/train/0016E5_06180.png  \n",
      "  inflating: ./content/train/0016E5_06210.png  \n",
      "  inflating: ./content/train/0016E5_06240.png  \n",
      "  inflating: ./content/train/0016E5_06270.png  \n",
      "  inflating: ./content/train/0016E5_06300.png  \n",
      "  inflating: ./content/train/0016E5_06330.png  \n",
      "  inflating: ./content/train/0016E5_06360.png  \n",
      "  inflating: ./content/train/0016E5_06390.png  \n",
      "  inflating: ./content/train/0016E5_06420.png  \n",
      "  inflating: ./content/train/0016E5_06450.png  \n",
      "  inflating: ./content/train/0016E5_06480.png  \n",
      "  inflating: ./content/train/0016E5_06510.png  \n",
      "  inflating: ./content/train/0016E5_06540.png  \n",
      "  inflating: ./content/train/0016E5_06570.png  \n",
      "  inflating: ./content/train/0016E5_06600.png  \n",
      "  inflating: ./content/train/0016E5_06630.png  \n",
      "  inflating: ./content/train/0016E5_06660.png  \n",
      "  inflating: ./content/train/0016E5_06690.png  \n",
      "  inflating: ./content/train/0016E5_06720.png  \n",
      "  inflating: ./content/train/0016E5_06750.png  \n",
      "  inflating: ./content/train/0016E5_06780.png  \n",
      "  inflating: ./content/train/0016E5_06810.png  \n",
      "  inflating: ./content/train/0016E5_06840.png  \n",
      "  inflating: ./content/train/0016E5_06870.png  \n",
      "  inflating: ./content/train/0016E5_06900.png  \n",
      "  inflating: ./content/train/0016E5_06930.png  \n",
      "  inflating: ./content/train/0016E5_06960.png  \n",
      "  inflating: ./content/train/0016E5_06990.png  \n",
      "  inflating: ./content/train/0016E5_07020.png  \n",
      "  inflating: ./content/train/0016E5_07050.png  \n",
      "  inflating: ./content/train/0016E5_07080.png  \n",
      "  inflating: ./content/train/0016E5_07110.png  \n",
      "  inflating: ./content/train/0016E5_07140.png  \n",
      "  inflating: ./content/train/0016E5_07170.png  \n",
      "  inflating: ./content/train/0016E5_07200.png  \n",
      "  inflating: ./content/train/0016E5_07230.png  \n",
      "  inflating: ./content/train/0016E5_07260.png  \n",
      "  inflating: ./content/train/0016E5_07290.png  \n",
      "  inflating: ./content/train/0016E5_07320.png  \n",
      "  inflating: ./content/train/0016E5_07350.png  \n",
      "  inflating: ./content/train/0016E5_07380.png  \n",
      "  inflating: ./content/train/0016E5_07410.png  \n",
      "  inflating: ./content/train/0016E5_07440.png  \n",
      "  inflating: ./content/train/0016E5_07470.png  \n",
      "  inflating: ./content/train/0016E5_07500.png  \n",
      "  inflating: ./content/train/0016E5_07530.png  \n",
      "  inflating: ./content/train/0016E5_07560.png  \n",
      "  inflating: ./content/train/0016E5_07590.png  \n",
      "  inflating: ./content/train/0016E5_07620.png  \n",
      "  inflating: ./content/train/0016E5_07650.png  \n",
      "  inflating: ./content/train/0016E5_07680.png  \n",
      "  inflating: ./content/train/0016E5_07710.png  \n",
      "  inflating: ./content/train/0016E5_07740.png  \n",
      "  inflating: ./content/train/0016E5_07770.png  \n",
      "  inflating: ./content/train/0016E5_07800.png  \n",
      "  inflating: ./content/train/0016E5_07830.png  \n",
      "  inflating: ./content/train/0016E5_07860.png  \n",
      "  inflating: ./content/train/0016E5_07890.png  \n",
      "  inflating: ./content/train/0016E5_07920.png  \n",
      "  inflating: ./content/train/0016E5_08190.png  \n",
      "  inflating: ./content/train/0016E5_08220.png  \n",
      "  inflating: ./content/train/0016E5_08250.png  \n",
      "  inflating: ./content/train/0016E5_08280.png  \n",
      "  inflating: ./content/train/0016E5_08310.png  \n",
      "  inflating: ./content/train/0016E5_08340.png  \n",
      "  inflating: ./content/train/0016E5_08370.png  \n",
      "  inflating: ./content/train/0016E5_08400.png  \n",
      "  inflating: ./content/train/0016E5_08430.png  \n",
      "  inflating: ./content/train/0016E5_08460.png  \n",
      "  inflating: ./content/train/0016E5_08490.png  \n",
      "  inflating: ./content/train/0016E5_08520.png  \n",
      "  inflating: ./content/train/0016E5_08550.png  \n",
      "  inflating: ./content/train/0016E5_08580.png  \n",
      "  inflating: ./content/train/0016E5_08610.png  \n",
      "  inflating: ./content/train/0016E5_08640.png  \n",
      "  inflating: ./content/trainannot/0001TP_006690.png  \n",
      "  inflating: ./content/trainannot/0001TP_006720.png  \n",
      "  inflating: ./content/trainannot/0001TP_006750.png  \n",
      "  inflating: ./content/trainannot/0001TP_006780.png  \n",
      "  inflating: ./content/trainannot/0001TP_006810.png  \n",
      "  inflating: ./content/trainannot/0001TP_006840.png  \n",
      "  inflating: ./content/trainannot/0001TP_006870.png  \n",
      "  inflating: ./content/trainannot/0001TP_006900.png  \n",
      "  inflating: ./content/trainannot/0001TP_006930.png  \n",
      "  inflating: ./content/trainannot/0001TP_006960.png  \n",
      "  inflating: ./content/trainannot/0001TP_006990.png  \n",
      "  inflating: ./content/trainannot/0001TP_007020.png  \n",
      "  inflating: ./content/trainannot/0001TP_007050.png  \n",
      "  inflating: ./content/trainannot/0001TP_007080.png  \n",
      "  inflating: ./content/trainannot/0001TP_007110.png  \n",
      "  inflating: ./content/trainannot/0001TP_007140.png  \n",
      "  inflating: ./content/trainannot/0001TP_007170.png  \n",
      "  inflating: ./content/trainannot/0001TP_007200.png  \n",
      "  inflating: ./content/trainannot/0001TP_007230.png  \n",
      "  inflating: ./content/trainannot/0001TP_007260.png  \n",
      "  inflating: ./content/trainannot/0001TP_007290.png  \n",
      "  inflating: ./content/trainannot/0001TP_007320.png  \n",
      "  inflating: ./content/trainannot/0001TP_007350.png  \n",
      "  inflating: ./content/trainannot/0001TP_007380.png  \n",
      "  inflating: ./content/trainannot/0001TP_007410.png  \n",
      "  inflating: ./content/trainannot/0001TP_007440.png  \n",
      "  inflating: ./content/trainannot/0001TP_007470.png  \n",
      "  inflating: ./content/trainannot/0001TP_007500.png  \n",
      "  inflating: ./content/trainannot/0001TP_007530.png  \n",
      "  inflating: ./content/trainannot/0001TP_007560.png  \n",
      "  inflating: ./content/trainannot/0001TP_007590.png  \n",
      "  inflating: ./content/trainannot/0001TP_007620.png  \n",
      "  inflating: ./content/trainannot/0001TP_007650.png  \n",
      "  inflating: ./content/trainannot/0001TP_007680.png  \n",
      "  inflating: ./content/trainannot/0001TP_007710.png  \n",
      "  inflating: ./content/trainannot/0001TP_007740.png  \n",
      "  inflating: ./content/trainannot/0001TP_007770.png  \n",
      "  inflating: ./content/trainannot/0001TP_007800.png  \n",
      "  inflating: ./content/trainannot/0001TP_007830.png  \n",
      "  inflating: ./content/trainannot/0001TP_007860.png  \n",
      "  inflating: ./content/trainannot/0001TP_007890.png  \n",
      "  inflating: ./content/trainannot/0001TP_007920.png  \n",
      "  inflating: ./content/trainannot/0001TP_007950.png  \n",
      "  inflating: ./content/trainannot/0001TP_007980.png  \n",
      "  inflating: ./content/trainannot/0001TP_008010.png  \n",
      "  inflating: ./content/trainannot/0001TP_008040.png  \n",
      "  inflating: ./content/trainannot/0001TP_008070.png  \n",
      "  inflating: ./content/trainannot/0001TP_008100.png  \n",
      "  inflating: ./content/trainannot/0001TP_008130.png  \n",
      "  inflating: ./content/trainannot/0001TP_008160.png  \n",
      "  inflating: ./content/trainannot/0001TP_008190.png  \n",
      "  inflating: ./content/trainannot/0001TP_008220.png  \n",
      "  inflating: ./content/trainannot/0001TP_008250.png  \n",
      "  inflating: ./content/trainannot/0001TP_008280.png  \n",
      "  inflating: ./content/trainannot/0001TP_008310.png  \n",
      "  inflating: ./content/trainannot/0001TP_008340.png  \n",
      "  inflating: ./content/trainannot/0001TP_008370.png  \n",
      "  inflating: ./content/trainannot/0001TP_008400.png  \n",
      "  inflating: ./content/trainannot/0001TP_008430.png  \n",
      "  inflating: ./content/trainannot/0001TP_008460.png  \n",
      "  inflating: ./content/trainannot/0001TP_008490.png  \n",
      "  inflating: ./content/trainannot/0001TP_008520.png  \n",
      "  inflating: ./content/trainannot/0006R0_f00930.png  \n",
      "  inflating: ./content/trainannot/0006R0_f00960.png  \n",
      "  inflating: ./content/trainannot/0006R0_f00990.png  \n",
      "  inflating: ./content/trainannot/0006R0_f01020.png  \n",
      "  inflating: ./content/trainannot/0006R0_f01050.png  \n",
      "  inflating: ./content/trainannot/0006R0_f01080.png  \n",
      "  inflating: ./content/trainannot/0006R0_f01110.png  \n",
      "  inflating: ./content/trainannot/0006R0_f01140.png  \n",
      "  inflating: ./content/trainannot/0006R0_f01170.png  \n",
      "  inflating: ./content/trainannot/0006R0_f01200.png  \n",
      "  inflating: ./content/trainannot/0006R0_f01230.png  \n",
      "  inflating: ./content/trainannot/0006R0_f01260.png  \n",
      "  inflating: ./content/trainannot/0006R0_f01290.png  \n",
      "  inflating: ./content/trainannot/0006R0_f01320.png  \n",
      "  inflating: ./content/trainannot/0006R0_f01350.png  \n",
      "  inflating: ./content/trainannot/0006R0_f01380.png  \n",
      "  inflating: ./content/trainannot/0006R0_f01410.png  \n",
      "  inflating: ./content/trainannot/0006R0_f01440.png  \n",
      "  inflating: ./content/trainannot/0006R0_f01470.png  \n",
      "  inflating: ./content/trainannot/0006R0_f01500.png  \n",
      "  inflating: ./content/trainannot/0006R0_f01530.png  \n",
      "  inflating: ./content/trainannot/0006R0_f01560.png  \n",
      "  inflating: ./content/trainannot/0006R0_f01590.png  \n",
      "  inflating: ./content/trainannot/0006R0_f01620.png  \n",
      "  inflating: ./content/trainannot/0006R0_f01650.png  \n",
      "  inflating: ./content/trainannot/0006R0_f01680.png  \n",
      "  inflating: ./content/trainannot/0006R0_f01710.png  \n",
      "  inflating: ./content/trainannot/0006R0_f01740.png  \n",
      "  inflating: ./content/trainannot/0006R0_f01770.png  \n",
      "  inflating: ./content/trainannot/0006R0_f01800.png  \n",
      "  inflating: ./content/trainannot/0006R0_f01830.png  \n"
     ]
    },
    {
     "name": "stdout",
     "output_type": "stream",
     "text": [
      "  inflating: ./content/trainannot/0006R0_f01860.png  \r\n",
      "  inflating: ./content/trainannot/0006R0_f01890.png  \r\n",
      "  inflating: ./content/trainannot/0006R0_f01920.png  \r\n",
      "  inflating: ./content/trainannot/0006R0_f01950.png  \r\n",
      "  inflating: ./content/trainannot/0006R0_f01980.png  \r\n",
      "  inflating: ./content/trainannot/0006R0_f02010.png  \r\n",
      "  inflating: ./content/trainannot/0006R0_f02040.png  \r\n",
      "  inflating: ./content/trainannot/0006R0_f02070.png  \r\n",
      "  inflating: ./content/trainannot/0006R0_f02100.png  \r\n",
      "  inflating: ./content/trainannot/0006R0_f02130.png  \r\n",
      "  inflating: ./content/trainannot/0006R0_f02160.png  \r\n",
      "  inflating: ./content/trainannot/0006R0_f02190.png  \r\n",
      "  inflating: ./content/trainannot/0006R0_f02220.png  \r\n",
      "  inflating: ./content/trainannot/0006R0_f02250.png  \r\n",
      "  inflating: ./content/trainannot/0006R0_f02280.png  \r\n",
      "  inflating: ./content/trainannot/0006R0_f02310.png  \r\n",
      "  inflating: ./content/trainannot/0006R0_f02340.png  \r\n",
      "  inflating: ./content/trainannot/0006R0_f02370.png  \r\n",
      "  inflating: ./content/trainannot/0006R0_f02400.png  \r\n",
      "  inflating: ./content/trainannot/0006R0_f02430.png  \r\n",
      "  inflating: ./content/trainannot/0006R0_f02460.png  \r\n",
      "  inflating: ./content/trainannot/0006R0_f02490.png  \r\n",
      "  inflating: ./content/trainannot/0006R0_f02520.png  \r\n",
      "  inflating: ./content/trainannot/0006R0_f02550.png  \r\n",
      "  inflating: ./content/trainannot/0006R0_f02580.png  \r\n",
      "  inflating: ./content/trainannot/0006R0_f02610.png  \r\n",
      "  inflating: ./content/trainannot/0006R0_f02640.png  \r\n",
      "  inflating: ./content/trainannot/0006R0_f02670.png  \r\n",
      "  inflating: ./content/trainannot/0006R0_f02700.png  \r\n",
      "  inflating: ./content/trainannot/0006R0_f02730.png  \r\n",
      "  inflating: ./content/trainannot/0006R0_f02760.png  \r\n",
      "  inflating: ./content/trainannot/0006R0_f02790.png  \r\n",
      "  inflating: ./content/trainannot/0006R0_f02820.png  \r\n",
      "  inflating: ./content/trainannot/0006R0_f02850.png  \r\n",
      "  inflating: ./content/trainannot/0006R0_f02880.png  \r\n",
      "  inflating: ./content/trainannot/0006R0_f02910.png  \r\n",
      "  inflating: ./content/trainannot/0006R0_f02940.png  \r\n",
      "  inflating: ./content/trainannot/0006R0_f02970.png  \r\n",
      "  inflating: ./content/trainannot/0006R0_f03000.png  \r\n",
      "  inflating: ./content/trainannot/0006R0_f03030.png  \r\n",
      "  inflating: ./content/trainannot/0006R0_f03060.png  \r\n",
      "  inflating: ./content/trainannot/0006R0_f03090.png  \r\n",
      "  inflating: ./content/trainannot/0006R0_f03120.png  \r\n",
      "  inflating: ./content/trainannot/0006R0_f03150.png  \r\n",
      "  inflating: ./content/trainannot/0006R0_f03180.png  \r\n",
      "  inflating: ./content/trainannot/0006R0_f03210.png  \r\n",
      "  inflating: ./content/trainannot/0006R0_f03240.png  \r\n",
      "  inflating: ./content/trainannot/0006R0_f03270.png  \r\n",
      "  inflating: ./content/trainannot/0006R0_f03300.png  \r\n",
      "  inflating: ./content/trainannot/0006R0_f03330.png  \r\n",
      "  inflating: ./content/trainannot/0006R0_f03360.png  \r\n",
      "  inflating: ./content/trainannot/0006R0_f03390.png  \r\n",
      "  inflating: ./content/trainannot/0006R0_f03420.png  \r\n",
      "  inflating: ./content/trainannot/0006R0_f03450.png  \r\n",
      "  inflating: ./content/trainannot/0006R0_f03480.png  \r\n",
      "  inflating: ./content/trainannot/0006R0_f03510.png  \r\n",
      "  inflating: ./content/trainannot/0006R0_f03540.png  \r\n",
      "  inflating: ./content/trainannot/0006R0_f03570.png  \r\n",
      "  inflating: ./content/trainannot/0006R0_f03600.png  \r\n",
      "  inflating: ./content/trainannot/0006R0_f03630.png  \r\n",
      "  inflating: ./content/trainannot/0006R0_f03660.png  \r\n",
      "  inflating: ./content/trainannot/0006R0_f03690.png  \r\n",
      "  inflating: ./content/trainannot/0006R0_f03720.png  \r\n",
      "  inflating: ./content/trainannot/0006R0_f03750.png  \r\n",
      "  inflating: ./content/trainannot/0006R0_f03780.png  \r\n",
      "  inflating: ./content/trainannot/0006R0_f03810.png  \r\n",
      "  inflating: ./content/trainannot/0006R0_f03840.png  \r\n",
      "  inflating: ./content/trainannot/0006R0_f03870.png  \r\n",
      "  inflating: ./content/trainannot/0006R0_f03900.png  \r\n",
      "  inflating: ./content/trainannot/0006R0_f03930.png  \r\n",
      "  inflating: ./content/trainannot/0016E5_00390.png  \r\n",
      "  inflating: ./content/trainannot/0016E5_00420.png  \r\n",
      "  inflating: ./content/trainannot/0016E5_00450.png  \r\n",
      "  inflating: ./content/trainannot/0016E5_00480.png  \r\n",
      "  inflating: ./content/trainannot/0016E5_00510.png  \r\n",
      "  inflating: ./content/trainannot/0016E5_00540.png  \r\n",
      "  inflating: ./content/trainannot/0016E5_00570.png  \r\n",
      "  inflating: ./content/trainannot/0016E5_00600.png  \r\n",
      "  inflating: ./content/trainannot/0016E5_00630.png  \r\n",
      "  inflating: ./content/trainannot/0016E5_00660.png  \r\n",
      "  inflating: ./content/trainannot/0016E5_00690.png  \r\n",
      "  inflating: ./content/trainannot/0016E5_00720.png  \r\n",
      "  inflating: ./content/trainannot/0016E5_00750.png  \r\n",
      "  inflating: ./content/trainannot/0016E5_00780.png  \r\n",
      "  inflating: ./content/trainannot/0016E5_00810.png  \r\n",
      "  inflating: ./content/trainannot/0016E5_00840.png  \r\n",
      "  inflating: ./content/trainannot/0016E5_00870.png  \r\n",
      "  inflating: ./content/trainannot/0016E5_00901.png  \r\n",
      "  inflating: ./content/trainannot/0016E5_00930.png  \r\n",
      "  inflating: ./content/trainannot/0016E5_00960.png  \r\n",
      "  inflating: ./content/trainannot/0016E5_00990.png  \r\n",
      "  inflating: ./content/trainannot/0016E5_01020.png  \r\n",
      "  inflating: ./content/trainannot/0016E5_01050.png  \r\n",
      "  inflating: ./content/trainannot/0016E5_01080.png  \r\n",
      "  inflating: ./content/trainannot/0016E5_01110.png  \r\n",
      "  inflating: ./content/trainannot/0016E5_01140.png  \r\n",
      "  inflating: ./content/trainannot/0016E5_01170.png  \r\n",
      "  inflating: ./content/trainannot/0016E5_01200.png  \r\n",
      "  inflating: ./content/trainannot/0016E5_01230.png  \r\n",
      "  inflating: ./content/trainannot/0016E5_01260.png  \r\n",
      "  inflating: ./content/trainannot/0016E5_01290.png  \r\n",
      "  inflating: ./content/trainannot/0016E5_01320.png  \r\n",
      "  inflating: ./content/trainannot/0016E5_01350.png  \r\n",
      "  inflating: ./content/trainannot/0016E5_01380.png  \r\n",
      "  inflating: ./content/trainannot/0016E5_01410.png  \r\n",
      "  inflating: ./content/trainannot/0016E5_01440.png  \r\n",
      "  inflating: ./content/trainannot/0016E5_01470.png  \r\n",
      "  inflating: ./content/trainannot/0016E5_01500.png  \r\n",
      "  inflating: ./content/trainannot/0016E5_01530.png  \r\n",
      "  inflating: ./content/trainannot/0016E5_01560.png  \r\n",
      "  inflating: ./content/trainannot/0016E5_01590.png  \r\n",
      "  inflating: ./content/trainannot/0016E5_01620.png  \r\n",
      "  inflating: ./content/trainannot/0016E5_01650.png  \r\n",
      "  inflating: ./content/trainannot/0016E5_01680.png  \r\n",
      "  inflating: ./content/trainannot/0016E5_01710.png  \r\n",
      "  inflating: ./content/trainannot/0016E5_01740.png  \r\n",
      "  inflating: ./content/trainannot/0016E5_01770.png  \r\n",
      "  inflating: ./content/trainannot/0016E5_01800.png  \r\n",
      "  inflating: ./content/trainannot/0016E5_01830.png  \r\n",
      "  inflating: ./content/trainannot/0016E5_01860.png  \r\n",
      "  inflating: ./content/trainannot/0016E5_01890.png  \r\n",
      "  inflating: ./content/trainannot/0016E5_01920.png  \r\n",
      "  inflating: ./content/trainannot/0016E5_01950.png  \r\n",
      "  inflating: ./content/trainannot/0016E5_01980.png  \r\n",
      "  inflating: ./content/trainannot/0016E5_02010.png  \r\n",
      "  inflating: ./content/trainannot/0016E5_02040.png  \r\n",
      "  inflating: ./content/trainannot/0016E5_02070.png  \r\n",
      "  inflating: ./content/trainannot/0016E5_02100.png  \r\n",
      "  inflating: ./content/trainannot/0016E5_02130.png  \r\n",
      "  inflating: ./content/trainannot/0016E5_02160.png  \r\n",
      "  inflating: ./content/trainannot/0016E5_02190.png  \r\n",
      "  inflating: ./content/trainannot/0016E5_02220.png  \r\n",
      "  inflating: ./content/trainannot/0016E5_02250.png  \r\n",
      "  inflating: ./content/trainannot/0016E5_02280.png  \r\n",
      "  inflating: ./content/trainannot/0016E5_02310.png  \r\n",
      "  inflating: ./content/trainannot/0016E5_02340.png  \r\n",
      "  inflating: ./content/trainannot/0016E5_02370.png  \r\n",
      "  inflating: ./content/trainannot/0016E5_02400.png  \r\n",
      "  inflating: ./content/trainannot/0016E5_04350.png  \r\n",
      "  inflating: ./content/trainannot/0016E5_04380.png  \r\n",
      "  inflating: ./content/trainannot/0016E5_04410.png  \r\n",
      "  inflating: ./content/trainannot/0016E5_04440.png  \r\n",
      "  inflating: ./content/trainannot/0016E5_04470.png  \r\n",
      "  inflating: ./content/trainannot/0016E5_04500.png  \r\n",
      "  inflating: ./content/trainannot/0016E5_04530.png  \r\n",
      "  inflating: ./content/trainannot/0016E5_04560.png  \r\n",
      "  inflating: ./content/trainannot/0016E5_04590.png  \r\n",
      "  inflating: ./content/trainannot/0016E5_04620.png  \r\n",
      "  inflating: ./content/trainannot/0016E5_04650.png  \r\n",
      "  inflating: ./content/trainannot/0016E5_04680.png  \r\n",
      "  inflating: ./content/trainannot/0016E5_04710.png  \r\n",
      "  inflating: ./content/trainannot/0016E5_04740.png  \r\n",
      "  inflating: ./content/trainannot/0016E5_04770.png  \r\n",
      "  inflating: ./content/trainannot/0016E5_04800.png  \r\n",
      "  inflating: ./content/trainannot/0016E5_04830.png  \r\n",
      "  inflating: ./content/trainannot/0016E5_04860.png  \r\n",
      "  inflating: ./content/trainannot/0016E5_04890.png  \r\n",
      "  inflating: ./content/trainannot/0016E5_04920.png  \r\n",
      "  inflating: ./content/trainannot/0016E5_04950.png  \r\n",
      "  inflating: ./content/trainannot/0016E5_04980.png  \r\n",
      "  inflating: ./content/trainannot/0016E5_05010.png  \r\n",
      "  inflating: ./content/trainannot/0016E5_05040.png  \r\n",
      "  inflating: ./content/trainannot/0016E5_05070.png  \r\n",
      "  inflating: ./content/trainannot/0016E5_05100.png  \r\n",
      "  inflating: ./content/trainannot/0016E5_05130.png  \r\n",
      "  inflating: ./content/trainannot/0016E5_05160.png  \r\n",
      "  inflating: ./content/trainannot/0016E5_05190.png  \r\n",
      "  inflating: ./content/trainannot/0016E5_05220.png  \r\n",
      "  inflating: ./content/trainannot/0016E5_05250.png  \r\n",
      "  inflating: ./content/trainannot/0016E5_05280.png  \r\n",
      "  inflating: ./content/trainannot/0016E5_05310.png  \r\n",
      "  inflating: ./content/trainannot/0016E5_05340.png  \r\n",
      "  inflating: ./content/trainannot/0016E5_05370.png  \r\n",
      "  inflating: ./content/trainannot/0016E5_05400.png  \r\n",
      "  inflating: ./content/trainannot/0016E5_05430.png  \r\n",
      "  inflating: ./content/trainannot/0016E5_05460.png  \r\n",
      "  inflating: ./content/trainannot/0016E5_05490.png  \r\n",
      "  inflating: ./content/trainannot/0016E5_05520.png  \r\n",
      "  inflating: ./content/trainannot/0016E5_05550.png  \r\n",
      "  inflating: ./content/trainannot/0016E5_05580.png  \r\n",
      "  inflating: ./content/trainannot/0016E5_05610.png  \r\n",
      "  inflating: ./content/trainannot/0016E5_05640.png  \r\n",
      "  inflating: ./content/trainannot/0016E5_05670.png  \r\n",
      "  inflating: ./content/trainannot/0016E5_05700.png  \r\n",
      "  inflating: ./content/trainannot/0016E5_05730.png  \r\n",
      "  inflating: ./content/trainannot/0016E5_05760.png  \r\n",
      "  inflating: ./content/trainannot/0016E5_05790.png  \r\n",
      "  inflating: ./content/trainannot/0016E5_05820.png  \r\n",
      "  inflating: ./content/trainannot/0016E5_05850.png  \r\n",
      "  inflating: ./content/trainannot/0016E5_05880.png  \r\n",
      "  inflating: ./content/trainannot/0016E5_05910.png  \r\n",
      "  inflating: ./content/trainannot/0016E5_05940.png  \r\n",
      "  inflating: ./content/trainannot/0016E5_05970.png  \r\n",
      "  inflating: ./content/trainannot/0016E5_06000.png  \r\n",
      "  inflating: ./content/trainannot/0016E5_06030.png  \r\n",
      "  inflating: ./content/trainannot/0016E5_06060.png  \r\n",
      "  inflating: ./content/trainannot/0016E5_06090.png  \r\n",
      "  inflating: ./content/trainannot/0016E5_06120.png  \r\n",
      "  inflating: ./content/trainannot/0016E5_06150.png  \r\n",
      "  inflating: ./content/trainannot/0016E5_06180.png  \r\n",
      "  inflating: ./content/trainannot/0016E5_06210.png  \r\n",
      "  inflating: ./content/trainannot/0016E5_06240.png  \r\n",
      "  inflating: ./content/trainannot/0016E5_06270.png  \r\n",
      "  inflating: ./content/trainannot/0016E5_06300.png  \r\n",
      "  inflating: ./content/trainannot/0016E5_06330.png  \r\n",
      "  inflating: ./content/trainannot/0016E5_06360.png  \r\n",
      "  inflating: ./content/trainannot/0016E5_06390.png  \r\n",
      "  inflating: ./content/trainannot/0016E5_06420.png  \r\n",
      "  inflating: ./content/trainannot/0016E5_06450.png  \r\n",
      "  inflating: ./content/trainannot/0016E5_06480.png  \r\n",
      "  inflating: ./content/trainannot/0016E5_06510.png  \r\n",
      "  inflating: ./content/trainannot/0016E5_06540.png  \r\n",
      "  inflating: ./content/trainannot/0016E5_06570.png  \r\n",
      "  inflating: ./content/trainannot/0016E5_06600.png  \r\n",
      "  inflating: ./content/trainannot/0016E5_06630.png  \r\n",
      "  inflating: ./content/trainannot/0016E5_06660.png  \r\n",
      "  inflating: ./content/trainannot/0016E5_06690.png  \r\n",
      "  inflating: ./content/trainannot/0016E5_06720.png  \r\n",
      "  inflating: ./content/trainannot/0016E5_06750.png  \r\n",
      "  inflating: ./content/trainannot/0016E5_06780.png  \r\n",
      "  inflating: ./content/trainannot/0016E5_06810.png  \r\n",
      "  inflating: ./content/trainannot/0016E5_06840.png  \r\n",
      "  inflating: ./content/trainannot/0016E5_06870.png  \r\n",
      "  inflating: ./content/trainannot/0016E5_06900.png  \r\n",
      "  inflating: ./content/trainannot/0016E5_06930.png  \r\n",
      "  inflating: ./content/trainannot/0016E5_06960.png  \r\n",
      "  inflating: ./content/trainannot/0016E5_06990.png  \r\n",
      "  inflating: ./content/trainannot/0016E5_07020.png  \r\n",
      "  inflating: ./content/trainannot/0016E5_07050.png  \r\n",
      "  inflating: ./content/trainannot/0016E5_07080.png  \r\n",
      "  inflating: ./content/trainannot/0016E5_07110.png  \r\n",
      "  inflating: ./content/trainannot/0016E5_07140.png  \r\n",
      "  inflating: ./content/trainannot/0016E5_07170.png  \r\n",
      "  inflating: ./content/trainannot/0016E5_07200.png  \r\n",
      "  inflating: ./content/trainannot/0016E5_07230.png  \r\n",
      "  inflating: ./content/trainannot/0016E5_07260.png  \r\n",
      "  inflating: ./content/trainannot/0016E5_07290.png  \r\n",
      "  inflating: ./content/trainannot/0016E5_07320.png  \r\n",
      "  inflating: ./content/trainannot/0016E5_07350.png  \r\n",
      "  inflating: ./content/trainannot/0016E5_07380.png  \r\n",
      "  inflating: ./content/trainannot/0016E5_07410.png  \r\n",
      "  inflating: ./content/trainannot/0016E5_07440.png  \r\n",
      "  inflating: ./content/trainannot/0016E5_07470.png  \r\n",
      "  inflating: ./content/trainannot/0016E5_07500.png  \r\n",
      "  inflating: ./content/trainannot/0016E5_07530.png  \r\n",
      "  inflating: ./content/trainannot/0016E5_07560.png  \r\n",
      "  inflating: ./content/trainannot/0016E5_07590.png  \r\n",
      "  inflating: ./content/trainannot/0016E5_07620.png  \r\n",
      "  inflating: ./content/trainannot/0016E5_07650.png  \r\n",
      "  inflating: ./content/trainannot/0016E5_07680.png  \r\n",
      "  inflating: ./content/trainannot/0016E5_07710.png  \r\n",
      "  inflating: ./content/trainannot/0016E5_07740.png  \r\n",
      "  inflating: ./content/trainannot/0016E5_07770.png  \r\n",
      "  inflating: ./content/trainannot/0016E5_07800.png  \r\n",
      "  inflating: ./content/trainannot/0016E5_07830.png  \r\n",
      "  inflating: ./content/trainannot/0016E5_07860.png  \r\n",
      "  inflating: ./content/trainannot/0016E5_07890.png  \r\n",
      "  inflating: ./content/trainannot/0016E5_07920.png  \r\n",
      "  inflating: ./content/trainannot/0016E5_08190.png  \r\n",
      "  inflating: ./content/trainannot/0016E5_08220.png  \r\n",
      "  inflating: ./content/trainannot/0016E5_08250.png  \r\n",
      "  inflating: ./content/trainannot/0016E5_08280.png  \r\n",
      "  inflating: ./content/trainannot/0016E5_08310.png  \r\n",
      "  inflating: ./content/trainannot/0016E5_08340.png  \r\n",
      "  inflating: ./content/trainannot/0016E5_08370.png  \r\n",
      "  inflating: ./content/trainannot/0016E5_08400.png  \r\n",
      "  inflating: ./content/trainannot/0016E5_08430.png  \r\n",
      "  inflating: ./content/trainannot/0016E5_08460.png  \r\n",
      "  inflating: ./content/trainannot/0016E5_08490.png  \r\n",
      "  inflating: ./content/trainannot/0016E5_08520.png  \r\n",
      "  inflating: ./content/trainannot/0016E5_08550.png  \r\n",
      "  inflating: ./content/trainannot/0016E5_08580.png  \r\n",
      "  inflating: ./content/trainannot/0016E5_08610.png  \r\n",
      "  inflating: ./content/trainannot/0016E5_08640.png  \r\n",
      "  inflating: ./content/val/0016E5_07959.png  \r\n",
      "  inflating: ./content/val/0016E5_07961.png  \r\n",
      "  inflating: ./content/val/0016E5_07963.png  \r\n",
      "  inflating: ./content/val/0016E5_07965.png  \r\n",
      "  inflating: ./content/val/0016E5_07967.png  \r\n",
      "  inflating: ./content/val/0016E5_07969.png  \r\n",
      "  inflating: ./content/val/0016E5_07971.png  \r\n",
      "  inflating: ./content/val/0016E5_07973.png  \r\n",
      "  inflating: ./content/val/0016E5_07975.png  \r\n",
      "  inflating: ./content/val/0016E5_07977.png  \r\n",
      "  inflating: ./content/val/0016E5_07979.png  \r\n",
      "  inflating: ./content/val/0016E5_07981.png  \r\n",
      "  inflating: ./content/val/0016E5_07983.png  \r\n",
      "  inflating: ./content/val/0016E5_07985.png  \r\n",
      "  inflating: ./content/val/0016E5_07987.png  \r\n",
      "  inflating: ./content/val/0016E5_07989.png  \r\n",
      "  inflating: ./content/val/0016E5_07991.png  \r\n",
      "  inflating: ./content/val/0016E5_07993.png  \r\n",
      "  inflating: ./content/val/0016E5_07995.png  \r\n",
      "  inflating: ./content/val/0016E5_07997.png  \r\n",
      "  inflating: ./content/val/0016E5_07999.png  \r\n",
      "  inflating: ./content/val/0016E5_08001.png  \r\n",
      "  inflating: ./content/val/0016E5_08003.png  \r\n",
      "  inflating: ./content/val/0016E5_08005.png  \r\n",
      "  inflating: ./content/val/0016E5_08007.png  \r\n",
      "  inflating: ./content/val/0016E5_08009.png  \r\n",
      "  inflating: ./content/val/0016E5_08011.png  \r\n"
     ]
    },
    {
     "name": "stdout",
     "output_type": "stream",
     "text": [
      "  inflating: ./content/val/0016E5_08013.png  \n",
      "  inflating: ./content/val/0016E5_08015.png  \n",
      "  inflating: ./content/val/0016E5_08017.png  \n",
      "  inflating: ./content/val/0016E5_08019.png  \n",
      "  inflating: ./content/val/0016E5_08021.png  \n",
      "  inflating: ./content/val/0016E5_08023.png  \n",
      "  inflating: ./content/val/0016E5_08025.png  \n",
      "  inflating: ./content/val/0016E5_08027.png  \n",
      "  inflating: ./content/val/0016E5_08029.png  \n",
      "  inflating: ./content/val/0016E5_08031.png  \n",
      "  inflating: ./content/val/0016E5_08033.png  \n",
      "  inflating: ./content/val/0016E5_08035.png  \n",
      "  inflating: ./content/val/0016E5_08037.png  \n",
      "  inflating: ./content/val/0016E5_08039.png  \n",
      "  inflating: ./content/val/0016E5_08041.png  \n",
      "  inflating: ./content/val/0016E5_08043.png  \n",
      "  inflating: ./content/val/0016E5_08045.png  \n",
      "  inflating: ./content/val/0016E5_08047.png  \n",
      "  inflating: ./content/val/0016E5_08049.png  \n",
      "  inflating: ./content/val/0016E5_08051.png  \n",
      "  inflating: ./content/val/0016E5_08053.png  \n",
      "  inflating: ./content/val/0016E5_08055.png  \n",
      "  inflating: ./content/val/0016E5_08057.png  \n",
      "  inflating: ./content/val/0016E5_08059.png  \n",
      "  inflating: ./content/val/0016E5_08061.png  \n",
      "  inflating: ./content/val/0016E5_08063.png  \n",
      "  inflating: ./content/val/0016E5_08065.png  \n",
      "  inflating: ./content/val/0016E5_08067.png  \n",
      "  inflating: ./content/val/0016E5_08069.png  \n",
      "  inflating: ./content/val/0016E5_08071.png  \n",
      "  inflating: ./content/val/0016E5_08073.png  \n",
      "  inflating: ./content/val/0016E5_08075.png  \n",
      "  inflating: ./content/val/0016E5_08077.png  \n",
      "  inflating: ./content/val/0016E5_08079.png  \n",
      "  inflating: ./content/val/0016E5_08081.png  \n",
      "  inflating: ./content/val/0016E5_08083.png  \n",
      "  inflating: ./content/val/0016E5_08085.png  \n",
      "  inflating: ./content/val/0016E5_08087.png  \n",
      "  inflating: ./content/val/0016E5_08089.png  \n",
      "  inflating: ./content/val/0016E5_08091.png  \n",
      "  inflating: ./content/val/0016E5_08093.png  \n",
      "  inflating: ./content/val/0016E5_08095.png  \n",
      "  inflating: ./content/val/0016E5_08097.png  \n",
      "  inflating: ./content/val/0016E5_08099.png  \n",
      "  inflating: ./content/val/0016E5_08101.png  \n",
      "  inflating: ./content/val/0016E5_08103.png  \n",
      "  inflating: ./content/val/0016E5_08105.png  \n",
      "  inflating: ./content/val/0016E5_08107.png  \n",
      "  inflating: ./content/val/0016E5_08109.png  \n",
      "  inflating: ./content/val/0016E5_08111.png  \n",
      "  inflating: ./content/val/0016E5_08113.png  \n",
      "  inflating: ./content/val/0016E5_08115.png  \n",
      "  inflating: ./content/val/0016E5_08117.png  \n",
      "  inflating: ./content/val/0016E5_08119.png  \n",
      "  inflating: ./content/val/0016E5_08121.png  \n",
      "  inflating: ./content/val/0016E5_08123.png  \n",
      "  inflating: ./content/val/0016E5_08125.png  \n",
      "  inflating: ./content/val/0016E5_08127.png  \n",
      "  inflating: ./content/val/0016E5_08129.png  \n",
      "  inflating: ./content/val/0016E5_08131.png  \n",
      "  inflating: ./content/val/0016E5_08133.png  \n",
      "  inflating: ./content/val/0016E5_08135.png  \n",
      "  inflating: ./content/val/0016E5_08137.png  \n",
      "  inflating: ./content/val/0016E5_08139.png  \n",
      "  inflating: ./content/val/0016E5_08141.png  \n",
      "  inflating: ./content/val/0016E5_08143.png  \n",
      "  inflating: ./content/val/0016E5_08145.png  \n",
      "  inflating: ./content/val/0016E5_08147.png  \n",
      "  inflating: ./content/val/0016E5_08149.png  \n",
      "  inflating: ./content/val/0016E5_08151.png  \n",
      "  inflating: ./content/val/0016E5_08153.png  \n",
      "  inflating: ./content/val/0016E5_08155.png  \n",
      "  inflating: ./content/val/0016E5_08157.png  \n",
      "  inflating: ./content/val/0016E5_08159.png  \n",
      "  inflating: ./content/valannot/0016E5_07959.png  \n",
      "  inflating: ./content/valannot/0016E5_07961.png  \n",
      "  inflating: ./content/valannot/0016E5_07963.png  \n",
      "  inflating: ./content/valannot/0016E5_07965.png  \n",
      "  inflating: ./content/valannot/0016E5_07967.png  \n",
      "  inflating: ./content/valannot/0016E5_07969.png  \n",
      "  inflating: ./content/valannot/0016E5_07971.png  \n",
      "  inflating: ./content/valannot/0016E5_07973.png  \n",
      "  inflating: ./content/valannot/0016E5_07975.png  \n",
      "  inflating: ./content/valannot/0016E5_07977.png  \n",
      "  inflating: ./content/valannot/0016E5_07979.png  \n",
      "  inflating: ./content/valannot/0016E5_07981.png  \n",
      "  inflating: ./content/valannot/0016E5_07983.png  \n",
      "  inflating: ./content/valannot/0016E5_07985.png  \n",
      "  inflating: ./content/valannot/0016E5_07987.png  \n",
      "  inflating: ./content/valannot/0016E5_07989.png  \n",
      "  inflating: ./content/valannot/0016E5_07991.png  \n",
      "  inflating: ./content/valannot/0016E5_07993.png  \n",
      "  inflating: ./content/valannot/0016E5_07995.png  \n",
      "  inflating: ./content/valannot/0016E5_07997.png  \n",
      "  inflating: ./content/valannot/0016E5_07999.png  \n",
      "  inflating: ./content/valannot/0016E5_08001.png  \n",
      "  inflating: ./content/valannot/0016E5_08003.png  \n",
      "  inflating: ./content/valannot/0016E5_08005.png  \n",
      "  inflating: ./content/valannot/0016E5_08007.png  \n",
      "  inflating: ./content/valannot/0016E5_08009.png  \n",
      "  inflating: ./content/valannot/0016E5_08011.png  \n",
      "  inflating: ./content/valannot/0016E5_08013.png  \n",
      "  inflating: ./content/valannot/0016E5_08015.png  \n",
      "  inflating: ./content/valannot/0016E5_08017.png  \n",
      "  inflating: ./content/valannot/0016E5_08019.png  \n",
      "  inflating: ./content/valannot/0016E5_08021.png  \n",
      "  inflating: ./content/valannot/0016E5_08023.png  \n",
      "  inflating: ./content/valannot/0016E5_08025.png  \n",
      "  inflating: ./content/valannot/0016E5_08027.png  \n",
      "  inflating: ./content/valannot/0016E5_08029.png  \n",
      "  inflating: ./content/valannot/0016E5_08031.png  \n",
      "  inflating: ./content/valannot/0016E5_08033.png  \n",
      "  inflating: ./content/valannot/0016E5_08035.png  \n",
      "  inflating: ./content/valannot/0016E5_08037.png  \n",
      "  inflating: ./content/valannot/0016E5_08039.png  \n",
      "  inflating: ./content/valannot/0016E5_08041.png  \n",
      "  inflating: ./content/valannot/0016E5_08043.png  \n",
      "  inflating: ./content/valannot/0016E5_08045.png  \n",
      "  inflating: ./content/valannot/0016E5_08047.png  \n",
      "  inflating: ./content/valannot/0016E5_08049.png  \n",
      "  inflating: ./content/valannot/0016E5_08051.png  \n",
      "  inflating: ./content/valannot/0016E5_08053.png  \n",
      "  inflating: ./content/valannot/0016E5_08055.png  \n",
      "  inflating: ./content/valannot/0016E5_08057.png  \n",
      "  inflating: ./content/valannot/0016E5_08059.png  \n",
      "  inflating: ./content/valannot/0016E5_08061.png  \n",
      "  inflating: ./content/valannot/0016E5_08063.png  \n",
      "  inflating: ./content/valannot/0016E5_08065.png  \n",
      "  inflating: ./content/valannot/0016E5_08067.png  \n",
      "  inflating: ./content/valannot/0016E5_08069.png  \n",
      "  inflating: ./content/valannot/0016E5_08071.png  \n",
      "  inflating: ./content/valannot/0016E5_08073.png  \n",
      "  inflating: ./content/valannot/0016E5_08075.png  \n",
      "  inflating: ./content/valannot/0016E5_08077.png  \n",
      "  inflating: ./content/valannot/0016E5_08079.png  \n",
      "  inflating: ./content/valannot/0016E5_08081.png  \n",
      "  inflating: ./content/valannot/0016E5_08083.png  \n",
      "  inflating: ./content/valannot/0016E5_08085.png  \n",
      "  inflating: ./content/valannot/0016E5_08087.png  \n",
      "  inflating: ./content/valannot/0016E5_08089.png  \n",
      "  inflating: ./content/valannot/0016E5_08091.png  \n",
      "  inflating: ./content/valannot/0016E5_08093.png  \n",
      "  inflating: ./content/valannot/0016E5_08095.png  \n",
      "  inflating: ./content/valannot/0016E5_08097.png  \n",
      "  inflating: ./content/valannot/0016E5_08099.png  \n",
      "  inflating: ./content/valannot/0016E5_08101.png  \n",
      "  inflating: ./content/valannot/0016E5_08103.png  \n",
      "  inflating: ./content/valannot/0016E5_08105.png  \n",
      "  inflating: ./content/valannot/0016E5_08107.png  \n",
      "  inflating: ./content/valannot/0016E5_08109.png  \n",
      "  inflating: ./content/valannot/0016E5_08111.png  \n",
      "  inflating: ./content/valannot/0016E5_08113.png  \n",
      "  inflating: ./content/valannot/0016E5_08115.png  \n",
      "  inflating: ./content/valannot/0016E5_08117.png  \n",
      "  inflating: ./content/valannot/0016E5_08119.png  \n",
      "  inflating: ./content/valannot/0016E5_08121.png  \n",
      "  inflating: ./content/valannot/0016E5_08123.png  \n",
      "  inflating: ./content/valannot/0016E5_08125.png  \n",
      "  inflating: ./content/valannot/0016E5_08127.png  \n",
      "  inflating: ./content/valannot/0016E5_08129.png  \n",
      "  inflating: ./content/valannot/0016E5_08131.png  \n",
      "  inflating: ./content/valannot/0016E5_08133.png  \n",
      "  inflating: ./content/valannot/0016E5_08135.png  \n",
      "  inflating: ./content/valannot/0016E5_08137.png  \n",
      "  inflating: ./content/valannot/0016E5_08139.png  \n",
      "  inflating: ./content/valannot/0016E5_08141.png  \n",
      "  inflating: ./content/valannot/0016E5_08143.png  \n",
      "  inflating: ./content/valannot/0016E5_08145.png  \n",
      "  inflating: ./content/valannot/0016E5_08147.png  \n",
      "  inflating: ./content/valannot/0016E5_08149.png  \n",
      "  inflating: ./content/valannot/0016E5_08151.png  \n",
      "  inflating: ./content/valannot/0016E5_08153.png  \n",
      "  inflating: ./content/valannot/0016E5_08155.png  \n",
      "  inflating: ./content/valannot/0016E5_08157.png  \n",
      "  inflating: ./content/valannot/0016E5_08159.png  \n"
     ]
    }
   ],
   "source": [
    "!mkdir -p content\n",
    "!wget https://www.dropbox.com/s/pxcz2wdz04zxocq/CamVid.zip?dl=1 -O ./content/CamVid.zip\n",
    "!unzip -o ./content/CamVid.zip -d ./content"
   ]
  },
  {
   "cell_type": "markdown",
   "metadata": {
    "colab_type": "text",
    "id": "i26TZVXmhewY"
   },
   "source": [
    "## Create the ENet model\n",
    "\n",
    "We decided to to split the model to three sub classes:\n",
    "\n",
    "1) Initial block  \n",
    "\n",
    "2) RDDNeck - class for regular, downsampling and dilated bottlenecks\n",
    "\n",
    "3) ASNeck -  class for asymetric bottlenecks\n",
    "\n",
    "4) UBNeck - class for upsampling bottlenecks"
   ]
  },
  {
   "cell_type": "code",
   "execution_count": 3,
   "metadata": {
    "colab": {},
    "colab_type": "code",
    "id": "kqHUezLfPBwn"
   },
   "outputs": [],
   "source": [
    "class InitialBlock(nn.Module):\n",
    "  \n",
    "  # Initial block of the model:\n",
    "  #         Input\n",
    "  #        /     \\\n",
    "  #       /       \\\n",
    "  #maxpool2d    conv2d-3x3\n",
    "  #       \\       /  \n",
    "  #        \\     /\n",
    "  #      concatenate\n",
    "   \n",
    "    def __init__ (self,in_channels = 3,out_channels = 13):\n",
    "        super().__init__()\n",
    "\n",
    "\n",
    "        self.maxpool = nn.MaxPool2d(kernel_size=2, \n",
    "                                      stride = 2, \n",
    "                                      padding = 0)\n",
    "\n",
    "        self.conv = nn.Conv2d(in_channels, \n",
    "                                out_channels,\n",
    "                                kernel_size = 3,\n",
    "                                stride = 2, \n",
    "                                padding = 1)\n",
    "\n",
    "        self.prelu = nn.PReLU(16)\n",
    "\n",
    "        self.batchnorm = nn.BatchNorm2d(out_channels)\n",
    "  \n",
    "    def forward(self, x):\n",
    "        \n",
    "        main = self.conv(x)\n",
    "        main = self.batchnorm(main)\n",
    "        \n",
    "        side = self.maxpool(x)\n",
    "        \n",
    "        # concatenating on the channels axis\n",
    "        x = torch.cat((main, side), dim=1)\n",
    "        x = self.prelu(x)\n",
    "        \n",
    "        return x"
   ]
  },
  {
   "cell_type": "code",
   "execution_count": 4,
   "metadata": {
    "colab": {},
    "colab_type": "code",
    "id": "ERqXRpl_sfSE"
   },
   "outputs": [],
   "source": [
    "class UBNeck(nn.Module):\n",
    "    \n",
    "  # Upsampling bottleneck:\n",
    "  #     Bottleneck Input\n",
    "  #        /        \\\n",
    "  #       /          \\\n",
    "  # conv2d-1x1     convTrans2d-1x1\n",
    "  #      |             | PReLU\n",
    "  #      |         convTrans2d-3x3\n",
    "  #      |             | PReLU\n",
    "  #      |         convTrans2d-1x1\n",
    "  #      |             |\n",
    "  # maxunpool2d    Regularizer\n",
    "  #       \\           /  \n",
    "  #        \\         /\n",
    "  #      Summing + PReLU\n",
    "  #\n",
    "  #  Params: \n",
    "  #  projection_ratio - ratio between input and output channels\n",
    "  #  relu - if True: relu used as the activation function else: Prelu us used\n",
    "  \n",
    "    def __init__(self, in_channels, out_channels, relu=False, projection_ratio=4):\n",
    "        \n",
    "        super().__init__()\n",
    "        \n",
    "        # Define class variables\n",
    "        self.in_channels = in_channels\n",
    "        self.reduced_depth = int(in_channels / projection_ratio)\n",
    "        self.out_channels = out_channels\n",
    "        \n",
    "        \n",
    "        if relu:\n",
    "            activation = nn.ReLU()\n",
    "        else:\n",
    "            activation = nn.PReLU()\n",
    "        \n",
    "        self.unpool = nn.MaxUnpool2d(kernel_size = 2,\n",
    "                                     stride = 2)\n",
    "        \n",
    "        self.main_conv = nn.Conv2d(in_channels = self.in_channels,\n",
    "                                    out_channels = self.out_channels,\n",
    "                                    kernel_size = 1)\n",
    "        \n",
    "        self.dropout = nn.Dropout2d(p=0.1)\n",
    "        \n",
    "        \n",
    "        self.convt1 = nn.ConvTranspose2d(in_channels = self.in_channels,\n",
    "                               out_channels = self.reduced_depth,\n",
    "                               kernel_size = 1,\n",
    "                               padding = 0,\n",
    "                               bias = False)\n",
    "        \n",
    "        \n",
    "        self.prelu1 = activation\n",
    "        \n",
    "        # This layer used for Upsampling\n",
    "        self.convt2 = nn.ConvTranspose2d(in_channels = self.reduced_depth,\n",
    "                                  out_channels = self.reduced_depth,\n",
    "                                  kernel_size = 3,\n",
    "                                  stride = 2,\n",
    "                                  padding = 1,\n",
    "                                  output_padding = 1,\n",
    "                                  bias = False)\n",
    "        \n",
    "        self.prelu2 = activation\n",
    "        \n",
    "        self.convt3 = nn.ConvTranspose2d(in_channels = self.reduced_depth,\n",
    "                                  out_channels = self.out_channels,\n",
    "                                  kernel_size = 1,\n",
    "                                  padding = 0,\n",
    "                                  bias = False)\n",
    "        \n",
    "        self.prelu3 = activation\n",
    "        \n",
    "        self.batchnorm = nn.BatchNorm2d(self.reduced_depth)\n",
    "        self.batchnorm2 = nn.BatchNorm2d(self.out_channels)\n",
    "        \n",
    "    def forward(self, x, indices):\n",
    "        x_copy = x\n",
    "        \n",
    "        # Side Branch\n",
    "        x = self.convt1(x)\n",
    "        x = self.batchnorm(x)\n",
    "        x = self.prelu1(x)\n",
    "        \n",
    "        x = self.convt2(x)\n",
    "        x = self.batchnorm(x)\n",
    "        x = self.prelu2(x)\n",
    "        \n",
    "        x = self.convt3(x)\n",
    "        x = self.batchnorm2(x)\n",
    "        \n",
    "        x = self.dropout(x)\n",
    "        \n",
    "        # Main Branch\n",
    "        \n",
    "        x_copy = self.main_conv(x_copy)\n",
    "        x_copy = self.unpool(x_copy, indices, output_size=x.size())\n",
    "        \n",
    "        # summing the main and side branches\n",
    "        x = x + x_copy\n",
    "        x = self.prelu3(x)\n",
    "        \n",
    "        return x"
   ]
  },
  {
   "cell_type": "code",
   "execution_count": 5,
   "metadata": {
    "colab": {},
    "colab_type": "code",
    "id": "r-nTIAS9bd9z"
   },
   "outputs": [],
   "source": [
    "class RDDNeck(nn.Module):\n",
    "    def __init__(self, dilation, in_channels, out_channels, down_flag, relu=False, projection_ratio=4, p=0.1):\n",
    "      \n",
    "  # Regular|Dilated|Downsampling bottlenecks:\n",
    "  #\n",
    "  #     Bottleneck Input\n",
    "  #        /        \\\n",
    "  #       /          \\\n",
    "  # maxpooling2d   conv2d-1x1\n",
    "  #      |             | PReLU\n",
    "  #      |         conv2d-3x3\n",
    "  #      |             | PReLU\n",
    "  #      |         conv2d-1x1\n",
    "  #      |             |\n",
    "  #  Padding2d     Regularizer\n",
    "  #       \\           /  \n",
    "  #        \\         /\n",
    "  #      Summing + PReLU\n",
    "  #\n",
    "  # Params: \n",
    "  #  dilation (bool) - if True: creating dilation bottleneck\n",
    "  #  down_flag (bool) - if True: creating downsampling bottleneck\n",
    "  #  projection_ratio - ratio between input and output channels\n",
    "  #  relu - if True: relu used as the activation function else: Prelu us used\n",
    "  #  p - dropout ratio\n",
    "        \n",
    "        super().__init__()\n",
    "        \n",
    "        # Define class variables\n",
    "        self.in_channels = in_channels\n",
    "        \n",
    "        self.out_channels = out_channels\n",
    "        self.dilation = dilation\n",
    "        self.down_flag = down_flag\n",
    "        \n",
    "        # calculating the number of reduced channels\n",
    "        if down_flag:\n",
    "            self.stride = 2\n",
    "            self.reduced_depth = int(in_channels // projection_ratio)\n",
    "        else:\n",
    "            self.stride = 1\n",
    "            self.reduced_depth = int(out_channels // projection_ratio)\n",
    "        \n",
    "        if relu:\n",
    "            activation = nn.ReLU()\n",
    "        else:\n",
    "            activation = nn.PReLU()\n",
    "        \n",
    "        self.maxpool = nn.MaxPool2d(kernel_size = 2,\n",
    "                                      stride = 2,\n",
    "                                      padding = 0, return_indices=True)\n",
    "        \n",
    "\n",
    "        \n",
    "        self.dropout = nn.Dropout2d(p=p)\n",
    "\n",
    "        self.conv1 = nn.Conv2d(in_channels = self.in_channels,\n",
    "                               out_channels = self.reduced_depth,\n",
    "                               kernel_size = 1,\n",
    "                               stride = 1,\n",
    "                               padding = 0,\n",
    "                               bias = False,\n",
    "                               dilation = 1)\n",
    "        \n",
    "        self.prelu1 = activation\n",
    "        \n",
    "        self.conv2 = nn.Conv2d(in_channels = self.reduced_depth,\n",
    "                                  out_channels = self.reduced_depth,\n",
    "                                  kernel_size = 3,\n",
    "                                  stride = self.stride,\n",
    "                                  padding = self.dilation,\n",
    "                                  bias = True,\n",
    "                                  dilation = self.dilation)\n",
    "                                  \n",
    "        self.prelu2 = activation\n",
    "        \n",
    "        self.conv3 = nn.Conv2d(in_channels = self.reduced_depth,\n",
    "                                  out_channels = self.out_channels,\n",
    "                                  kernel_size = 1,\n",
    "                                  stride = 1,\n",
    "                                  padding = 0,\n",
    "                                  bias = False,\n",
    "                                  dilation = 1)\n",
    "        \n",
    "        self.prelu3 = activation\n",
    "        \n",
    "        self.batchnorm = nn.BatchNorm2d(self.reduced_depth)\n",
    "        self.batchnorm2 = nn.BatchNorm2d(self.out_channels)\n",
    "        \n",
    "        \n",
    "    def forward(self, x):\n",
    "        \n",
    "        bs = x.size()[0]\n",
    "        x_copy = x\n",
    "        \n",
    "        # Side Branch\n",
    "        x = self.conv1(x)\n",
    "        x = self.batchnorm(x)\n",
    "        x = self.prelu1(x)\n",
    "        \n",
    "        x = self.conv2(x)\n",
    "        x = self.batchnorm(x)\n",
    "        x = self.prelu2(x)\n",
    "        \n",
    "        x = self.conv3(x)\n",
    "        x = self.batchnorm2(x)\n",
    "                \n",
    "        x = self.dropout(x)\n",
    "        \n",
    "        # Main Branch\n",
    "        if self.down_flag:\n",
    "            x_copy, indices = self.maxpool(x_copy)\n",
    "          \n",
    "        if self.in_channels != self.out_channels:\n",
    "            out_shape = self.out_channels - self.in_channels\n",
    "            \n",
    "            #padding and concatenating in order to match the channels axis of the side and main branches\n",
    "            extras = torch.zeros((bs, out_shape, x.shape[2], x.shape[3]))\n",
    "            if torch.cuda.is_available():\n",
    "                extras = extras.cuda()\n",
    "            x_copy = torch.cat((x_copy, extras), dim = 1)\n",
    "\n",
    "        # Summing main and side branches\n",
    "        x = x + x_copy\n",
    "        x = self.prelu3(x)\n",
    "        \n",
    "        if self.down_flag:\n",
    "            return x, indices\n",
    "        else:\n",
    "            return x"
   ]
  },
  {
   "cell_type": "code",
   "execution_count": 6,
   "metadata": {
    "colab": {},
    "colab_type": "code",
    "id": "tb_i1sCvtmMF"
   },
   "outputs": [],
   "source": [
    "class ASNeck(nn.Module):\n",
    "    def __init__(self, in_channels, out_channels, projection_ratio=4):\n",
    "      \n",
    "  # Asymetric bottleneck:\n",
    "  #\n",
    "  #     Bottleneck Input\n",
    "  #        /        \\\n",
    "  #       /          \\\n",
    "  #      |         conv2d-1x1\n",
    "  #      |             | PReLU\n",
    "  #      |         conv2d-1x5\n",
    "  #      |             |\n",
    "  #      |         conv2d-5x1\n",
    "  #      |             | PReLU\n",
    "  #      |         conv2d-1x1\n",
    "  #      |             |\n",
    "  #  Padding2d     Regularizer\n",
    "  #       \\           /  \n",
    "  #        \\         /\n",
    "  #      Summing + PReLU\n",
    "  #\n",
    "  # Params:    \n",
    "  #  projection_ratio - ratio between input and output channels\n",
    "        \n",
    "        super().__init__()\n",
    "        \n",
    "        # Define class variables\n",
    "        self.in_channels = in_channels\n",
    "        self.reduced_depth = int(in_channels / projection_ratio)\n",
    "        self.out_channels = out_channels\n",
    "        \n",
    "        self.dropout = nn.Dropout2d(p=0.1)\n",
    "        \n",
    "        self.conv1 = nn.Conv2d(in_channels = self.in_channels,\n",
    "                               out_channels = self.reduced_depth,\n",
    "                               kernel_size = 1,\n",
    "                               stride = 1,\n",
    "                               padding = 0,\n",
    "                               bias = False)\n",
    "        \n",
    "        self.prelu1 = nn.PReLU()\n",
    "        \n",
    "        self.conv21 = nn.Conv2d(in_channels = self.reduced_depth,\n",
    "                                  out_channels = self.reduced_depth,\n",
    "                                  kernel_size = (1, 5),\n",
    "                                  stride = 1,\n",
    "                                  padding = (0, 2),\n",
    "                                  bias = False)\n",
    "        \n",
    "        self.conv22 = nn.Conv2d(in_channels = self.reduced_depth,\n",
    "                                  out_channels = self.reduced_depth,\n",
    "                                  kernel_size = (5, 1),\n",
    "                                  stride = 1,\n",
    "                                  padding = (2, 0),\n",
    "                                  bias = False)\n",
    "        \n",
    "        self.prelu2 = nn.PReLU()\n",
    "        \n",
    "        self.conv3 = nn.Conv2d(in_channels = self.reduced_depth,\n",
    "                                  out_channels = self.out_channels,\n",
    "                                  kernel_size = 1,\n",
    "                                  stride = 1,\n",
    "                                  padding = 0,\n",
    "                                  bias = False)\n",
    "        \n",
    "        self.prelu3 = nn.PReLU()\n",
    "        \n",
    "        self.batchnorm = nn.BatchNorm2d(self.reduced_depth)\n",
    "        self.batchnorm2 = nn.BatchNorm2d(self.out_channels)\n",
    "        \n",
    "    def forward(self, x):\n",
    "        bs = x.size()[0]\n",
    "        x_copy = x\n",
    "        \n",
    "        # Side Branch\n",
    "        x = self.conv1(x)\n",
    "        x = self.batchnorm(x)\n",
    "        x = self.prelu1(x)\n",
    "        \n",
    "        x = self.conv21(x)\n",
    "        x = self.conv22(x)\n",
    "        x = self.batchnorm(x)\n",
    "        x = self.prelu2(x)\n",
    "        \n",
    "        x = self.conv3(x)\n",
    "                \n",
    "        x = self.dropout(x)\n",
    "        x = self.batchnorm2(x)\n",
    "        \n",
    "        # Main Branch\n",
    "        \n",
    "        if self.in_channels != self.out_channels:\n",
    "            out_shape = self.out_channels - self.in_channels\n",
    "            \n",
    "            #padding and concatenating in order to match the channels axis of the side and main branches\n",
    "            extras = torch.zeros((bs, out_shape, x.shape[2], x.shape[3]))\n",
    "            if torch.cuda.is_available():\n",
    "                extras = extras.cuda()\n",
    "            x_copy = torch.cat((x_copy, extras), dim = 1)\n",
    "        \n",
    "        # Summing main and side branches\n",
    "        x = x + x_copy\n",
    "        x = self.prelu3(x)\n",
    "        \n",
    "        return x"
   ]
  },
  {
   "cell_type": "code",
   "execution_count": 7,
   "metadata": {
    "colab": {},
    "colab_type": "code",
    "id": "Z1pz_bve690y"
   },
   "outputs": [],
   "source": [
    "class ENet(nn.Module):\n",
    "  \n",
    "  # Creating Enet model!\n",
    "  \n",
    "    def __init__(self, C):\n",
    "        super().__init__()\n",
    "        \n",
    "        # Define class variables\n",
    "        # C - number of classes\n",
    "        self.C = C\n",
    "        \n",
    "        # The initial block\n",
    "        self.init = InitialBlock()\n",
    "        \n",
    "        \n",
    "        # The first bottleneck\n",
    "        self.b10 = RDDNeck(dilation=1, \n",
    "                           in_channels=16, \n",
    "                           out_channels=64, \n",
    "                           down_flag=True, \n",
    "                           p=0.01)\n",
    "        \n",
    "        self.b11 = RDDNeck(dilation=1, \n",
    "                           in_channels=64, \n",
    "                           out_channels=64, \n",
    "                           down_flag=False, \n",
    "                           p=0.01)\n",
    "        \n",
    "        self.b12 = RDDNeck(dilation=1, \n",
    "                           in_channels=64, \n",
    "                           out_channels=64, \n",
    "                           down_flag=False, \n",
    "                           p=0.01)\n",
    "        \n",
    "        self.b13 = RDDNeck(dilation=1, \n",
    "                           in_channels=64, \n",
    "                           out_channels=64, \n",
    "                           down_flag=False, \n",
    "                           p=0.01)\n",
    "        \n",
    "        self.b14 = RDDNeck(dilation=1, \n",
    "                           in_channels=64, \n",
    "                           out_channels=64, \n",
    "                           down_flag=False, \n",
    "                           p=0.01)\n",
    "        \n",
    "        \n",
    "        # The second bottleneck\n",
    "        self.b20 = RDDNeck(dilation=1, \n",
    "                           in_channels=64, \n",
    "                           out_channels=128, \n",
    "                           down_flag=True)\n",
    "        \n",
    "        self.b21 = RDDNeck(dilation=1, \n",
    "                           in_channels=128, \n",
    "                           out_channels=128, \n",
    "                           down_flag=False)\n",
    "        \n",
    "        self.b22 = RDDNeck(dilation=2, \n",
    "                           in_channels=128, \n",
    "                           out_channels=128, \n",
    "                           down_flag=False)\n",
    "        \n",
    "        self.b23 = ASNeck(in_channels=128, \n",
    "                          out_channels=128)\n",
    "        \n",
    "        self.b24 = RDDNeck(dilation=4, \n",
    "                           in_channels=128, \n",
    "                           out_channels=128, \n",
    "                           down_flag=False)\n",
    "        \n",
    "        self.b25 = RDDNeck(dilation=1, \n",
    "                           in_channels=128, \n",
    "                           out_channels=128, \n",
    "                           down_flag=False)\n",
    "        \n",
    "        self.b26 = RDDNeck(dilation=8, \n",
    "                           in_channels=128, \n",
    "                           out_channels=128, \n",
    "                           down_flag=False)\n",
    "        \n",
    "        self.b27 = ASNeck(in_channels=128, \n",
    "                          out_channels=128)\n",
    "        \n",
    "        self.b28 = RDDNeck(dilation=16, \n",
    "                           in_channels=128, \n",
    "                           out_channels=128, \n",
    "                           down_flag=False)\n",
    "        \n",
    "        \n",
    "        # The third bottleneck\n",
    "        self.b31 = RDDNeck(dilation=1, \n",
    "                           in_channels=128, \n",
    "                           out_channels=128, \n",
    "                           down_flag=False)\n",
    "        \n",
    "        self.b32 = RDDNeck(dilation=2, \n",
    "                           in_channels=128, \n",
    "                           out_channels=128, \n",
    "                           down_flag=False)\n",
    "        \n",
    "        self.b33 = ASNeck(in_channels=128, \n",
    "                          out_channels=128)\n",
    "        \n",
    "        self.b34 = RDDNeck(dilation=4, \n",
    "                           in_channels=128, \n",
    "                           out_channels=128, \n",
    "                           down_flag=False)\n",
    "        \n",
    "        self.b35 = RDDNeck(dilation=1, \n",
    "                           in_channels=128, \n",
    "                           out_channels=128, \n",
    "                           down_flag=False)\n",
    "        \n",
    "        self.b36 = RDDNeck(dilation=8, \n",
    "                           in_channels=128, \n",
    "                           out_channels=128, \n",
    "                           down_flag=False)\n",
    "        \n",
    "        self.b37 = ASNeck(in_channels=128, \n",
    "                          out_channels=128)\n",
    "        \n",
    "        self.b38 = RDDNeck(dilation=16, \n",
    "                           in_channels=128, \n",
    "                           out_channels=128, \n",
    "                           down_flag=False)\n",
    "        \n",
    "        \n",
    "        # The fourth bottleneck\n",
    "        self.b40 = UBNeck(in_channels=128, \n",
    "                          out_channels=64, \n",
    "                          relu=True)\n",
    "        \n",
    "        self.b41 = RDDNeck(dilation=1, \n",
    "                           in_channels=64, \n",
    "                           out_channels=64, \n",
    "                           down_flag=False, \n",
    "                           relu=True)\n",
    "        \n",
    "        self.b42 = RDDNeck(dilation=1, \n",
    "                           in_channels=64, \n",
    "                           out_channels=64, \n",
    "                           down_flag=False, \n",
    "                           relu=True)\n",
    "        \n",
    "        \n",
    "        # The fifth bottleneck\n",
    "        self.b50 = UBNeck(in_channels=64, \n",
    "                          out_channels=16, \n",
    "                          relu=True)\n",
    "        \n",
    "        self.b51 = RDDNeck(dilation=1, \n",
    "                           in_channels=16, \n",
    "                           out_channels=16, \n",
    "                           down_flag=False, \n",
    "                           relu=True)\n",
    "        \n",
    "        \n",
    "        # Final ConvTranspose Layer\n",
    "        self.fullconv = nn.ConvTranspose2d(in_channels=16, \n",
    "                                           out_channels=self.C, \n",
    "                                           kernel_size=3, \n",
    "                                           stride=2, \n",
    "                                           padding=1, \n",
    "                                           output_padding=1,\n",
    "                                           bias=False)\n",
    "        \n",
    "        \n",
    "    def forward(self, x):\n",
    "        \n",
    "        # The initial block\n",
    "        x = self.init(x)\n",
    "        \n",
    "        # The first bottleneck\n",
    "        x, i1 = self.b10(x)\n",
    "        x = self.b11(x)\n",
    "        x = self.b12(x)\n",
    "        x = self.b13(x)\n",
    "        x = self.b14(x)\n",
    "        \n",
    "        # The second bottleneck\n",
    "        x, i2 = self.b20(x)\n",
    "        x = self.b21(x)\n",
    "        x = self.b22(x)\n",
    "        x = self.b23(x)\n",
    "        x = self.b24(x)\n",
    "        x = self.b25(x)\n",
    "        x = self.b26(x)\n",
    "        x = self.b27(x)\n",
    "        x = self.b28(x)\n",
    "        \n",
    "        # The third bottleneck\n",
    "        x = self.b31(x)\n",
    "        x = self.b32(x)\n",
    "        x = self.b33(x)\n",
    "        x = self.b34(x)\n",
    "        x = self.b35(x)\n",
    "        x = self.b36(x)\n",
    "        x = self.b37(x)\n",
    "        x = self.b38(x)\n",
    "        \n",
    "        # The fourth bottleneck\n",
    "        x = self.b40(x, i2)\n",
    "        x = self.b41(x)\n",
    "        x = self.b42(x)\n",
    "        \n",
    "        # The fifth bottleneck\n",
    "        x = self.b50(x, i1)\n",
    "        x = self.b51(x)\n",
    "        \n",
    "        # Final ConvTranspose Layer\n",
    "        x = self.fullconv(x)\n",
    "        \n",
    "        return x"
   ]
  },
  {
   "cell_type": "markdown",
   "metadata": {
    "colab_type": "text",
    "id": "Jg1Rnb3uhnxR"
   },
   "source": [
    "## Instantiate the ENet model"
   ]
  },
  {
   "cell_type": "code",
   "execution_count": 8,
   "metadata": {
    "colab": {},
    "colab_type": "code",
    "id": "3UdSwlKiB27K"
   },
   "outputs": [],
   "source": [
    "enet = ENet(12)"
   ]
  },
  {
   "cell_type": "markdown",
   "metadata": {
    "colab_type": "text",
    "id": "W5kaK6CnhwG_"
   },
   "source": [
    "Move the model to cuda if available"
   ]
  },
  {
   "cell_type": "code",
   "execution_count": 9,
   "metadata": {
    "colab": {},
    "colab_type": "code",
    "id": "lZcgE-F_hvxX"
   },
   "outputs": [],
   "source": [
    "# Checking if there is any gpu available and pass the model to gpu or cpu\n",
    "device = torch.device('cuda:0' if torch.cuda.is_available() else 'cpu')\n",
    "enet = enet.to(device)"
   ]
  },
  {
   "cell_type": "markdown",
   "metadata": {
    "colab_type": "text",
    "id": "EvURoRuSlyvP"
   },
   "source": [
    "## Define the loader that will load the input and output images"
   ]
  },
  {
   "cell_type": "code",
   "execution_count": 10,
   "metadata": {
    "colab": {},
    "colab_type": "code",
    "id": "XFCIsDF2bpQx"
   },
   "outputs": [],
   "source": [
    "def loader(training_path, segmented_path, batch_size, h=320, w=1000):\n",
    "    filenames_t = os.listdir(training_path)\n",
    "    total_files_t = len(filenames_t)\n",
    "    \n",
    "    filenames_s = os.listdir(segmented_path)\n",
    "    total_files_s = len(filenames_s)\n",
    "    \n",
    "    assert(total_files_t == total_files_s)\n",
    "    \n",
    "    if str(batch_size).lower() == 'all':\n",
    "        batch_size = total_files_s\n",
    "    \n",
    "    idx = 0\n",
    "    while(1):\n",
    "      # Choosing random indexes of images and labels\n",
    "        batch_idxs = np.random.randint(0, total_files_s, batch_size)\n",
    "            \n",
    "        \n",
    "        inputs = []\n",
    "        labels = []\n",
    "        \n",
    "        for jj in batch_idxs:\n",
    "          # Reading normalized photo\n",
    "            img = plt.imread(training_path + filenames_t[jj])\n",
    "          # Resizing using nearest neighbor method\n",
    "            img = cv2.resize(img, (h, w), cv2.INTER_NEAREST)\n",
    "            inputs.append(img)\n",
    "          \n",
    "          # Reading semantic image\n",
    "            img = Image.open(segmented_path + filenames_s[jj])\n",
    "            img = np.array(img)\n",
    "          # Resizing using nearest neighbor method\n",
    "            img = cv2.resize(img, (h, w), cv2.INTER_NEAREST)\n",
    "            labels.append(img)\n",
    "         \n",
    "        inputs = np.stack(inputs, axis=2)\n",
    "      # Changing image format to C x H x W\n",
    "        inputs = torch.tensor(inputs).transpose(0, 2).transpose(1, 3)\n",
    "        \n",
    "        labels = torch.tensor(labels)\n",
    "        \n",
    "        yield inputs, labels"
   ]
  },
  {
   "cell_type": "markdown",
   "metadata": {
    "colab_type": "text",
    "id": "_4qD8VBah2K2"
   },
   "source": [
    "## Define the class weights"
   ]
  },
  {
   "cell_type": "code",
   "execution_count": 11,
   "metadata": {
    "colab": {},
    "colab_type": "code",
    "id": "GmnNEeMHiSU2"
   },
   "outputs": [],
   "source": [
    "def get_class_weights(num_classes, c=1.02):\n",
    "    pipe = loader('./content/train/', './content/trainannot/', batch_size='all')\n",
    "    _, labels = next(pipe)\n",
    "    all_labels = labels.flatten()\n",
    "    each_class = np.bincount(all_labels, minlength=num_classes)\n",
    "    prospensity_score = each_class / len(all_labels)\n",
    "    class_weights = 1 / (np.log(c + prospensity_score))\n",
    "    return class_weights"
   ]
  },
  {
   "cell_type": "code",
   "execution_count": 12,
   "metadata": {
    "colab": {},
    "colab_type": "code",
    "id": "qHBoLmadmrA_"
   },
   "outputs": [],
   "source": [
    "class_weights = get_class_weights(12)"
   ]
  },
  {
   "cell_type": "markdown",
   "metadata": {
    "colab_type": "text",
    "id": "wwnNuFIfhsXm"
   },
   "source": [
    "## Define the Hyperparameters"
   ]
  },
  {
   "cell_type": "code",
   "execution_count": 13,
   "metadata": {
    "colab": {},
    "colab_type": "code",
    "id": "DI9425iz7thP"
   },
   "outputs": [],
   "source": [
    "lr = 5e-4\n",
    "batch_size = 10\n",
    "\n",
    "criterion = nn.CrossEntropyLoss(weight=torch.FloatTensor(class_weights).to(device))\n",
    "optimizer = torch.optim.Adam(enet.parameters(), \n",
    "                             lr=lr,\n",
    "                             weight_decay=2e-4)\n",
    "\n",
    "print_every = 5\n",
    "eval_every = 5"
   ]
  },
  {
   "cell_type": "markdown",
   "metadata": {
    "colab_type": "text",
    "id": "CFIdlVWviBYl"
   },
   "source": [
    "## Training loop"
   ]
  },
  {
   "cell_type": "code",
   "execution_count": 17,
   "metadata": {
    "colab": {
     "base_uri": "https://localhost:8080/",
     "height": 87
    },
    "colab_type": "code",
    "id": "WQ6XJzl6Ta1_",
    "outputId": "a3f62522-391d-4e05-f138-11c78a0d90cf"
   },
   "outputs": [
    {
     "name": "stderr",
     "output_type": "stream",
     "text": [
      "\r",
      "  0%|          | 0/36 [00:00<?, ?it/s]"
     ]
    },
    {
     "name": "stdout",
     "output_type": "stream",
     "text": [
      "--------------- Epoch 1 ---------------\n"
     ]
    },
    {
     "name": "stderr",
     "output_type": "stream",
     "text": [
      "100%|██████████| 36/36 [00:20<00:00,  1.81it/s]\n",
      "  0%|          | 0/36 [00:00<?, ?it/s]"
     ]
    },
    {
     "name": "stdout",
     "output_type": "stream",
     "text": [
      "\n",
      "--------------- Epoch 2 ---------------\n"
     ]
    },
    {
     "name": "stderr",
     "output_type": "stream",
     "text": [
      "100%|██████████| 36/36 [00:19<00:00,  1.79it/s]\n",
      "  0%|          | 0/36 [00:00<?, ?it/s]"
     ]
    },
    {
     "name": "stdout",
     "output_type": "stream",
     "text": [
      "\n",
      "--------------- Epoch 3 ---------------\n"
     ]
    },
    {
     "name": "stderr",
     "output_type": "stream",
     "text": [
      "100%|██████████| 36/36 [00:20<00:00,  1.80it/s]\n",
      "  0%|          | 0/36 [00:00<?, ?it/s]"
     ]
    },
    {
     "name": "stdout",
     "output_type": "stream",
     "text": [
      "\n",
      "--------------- Epoch 4 ---------------\n"
     ]
    },
    {
     "name": "stderr",
     "output_type": "stream",
     "text": [
      "100%|██████████| 36/36 [00:19<00:00,  1.80it/s]\n",
      "  0%|          | 0/36 [00:00<?, ?it/s]"
     ]
    },
    {
     "name": "stdout",
     "output_type": "stream",
     "text": [
      "\n",
      "Epoch 4/100... Loss 65.177056\n",
      "--------------- Epoch 5 ---------------\n"
     ]
    },
    {
     "name": "stderr",
     "output_type": "stream",
     "text": [
      "100%|██████████| 36/36 [00:20<00:00,  1.79it/s]\n",
      "  0%|          | 0/10 [00:00<?, ?it/s]"
     ]
    },
    {
     "name": "stdout",
     "output_type": "stream",
     "text": [
      "\n"
     ]
    },
    {
     "name": "stderr",
     "output_type": "stream",
     "text": [
      "100%|██████████| 10/10 [00:03<00:00,  3.13it/s]\n",
      "  0%|          | 0/36 [00:00<?, ?it/s]"
     ]
    },
    {
     "name": "stdout",
     "output_type": "stream",
     "text": [
      "\n",
      "Loss 3653423.000000\n",
      "Model saved!\n",
      "--------------- Epoch 6 ---------------\n"
     ]
    },
    {
     "name": "stderr",
     "output_type": "stream",
     "text": [
      "100%|██████████| 36/36 [00:20<00:00,  1.78it/s]\n",
      "  0%|          | 0/36 [00:00<?, ?it/s]"
     ]
    },
    {
     "name": "stdout",
     "output_type": "stream",
     "text": [
      "\n",
      "--------------- Epoch 7 ---------------\n"
     ]
    },
    {
     "name": "stderr",
     "output_type": "stream",
     "text": [
      "100%|██████████| 36/36 [00:20<00:00,  1.78it/s]\n",
      "  0%|          | 0/36 [00:00<?, ?it/s]"
     ]
    },
    {
     "name": "stdout",
     "output_type": "stream",
     "text": [
      "\n",
      "--------------- Epoch 8 ---------------\n"
     ]
    },
    {
     "name": "stderr",
     "output_type": "stream",
     "text": [
      "100%|██████████| 36/36 [00:20<00:00,  1.78it/s]\n",
      "  0%|          | 0/36 [00:00<?, ?it/s]"
     ]
    },
    {
     "name": "stdout",
     "output_type": "stream",
     "text": [
      "\n",
      "--------------- Epoch 9 ---------------\n"
     ]
    },
    {
     "name": "stderr",
     "output_type": "stream",
     "text": [
      "100%|██████████| 36/36 [00:20<00:00,  1.78it/s]\n",
      "  0%|          | 0/36 [00:00<?, ?it/s]"
     ]
    },
    {
     "name": "stdout",
     "output_type": "stream",
     "text": [
      "\n",
      "Epoch 9/100... Loss 50.372972\n",
      "--------------- Epoch 10 ---------------\n"
     ]
    },
    {
     "name": "stderr",
     "output_type": "stream",
     "text": [
      "100%|██████████| 36/36 [00:20<00:00,  1.76it/s]\n",
      "  0%|          | 0/10 [00:00<?, ?it/s]"
     ]
    },
    {
     "name": "stdout",
     "output_type": "stream",
     "text": [
      "\n"
     ]
    },
    {
     "name": "stderr",
     "output_type": "stream",
     "text": [
      "100%|██████████| 10/10 [00:03<00:00,  3.09it/s]\n",
      "  0%|          | 0/36 [00:00<?, ?it/s]"
     ]
    },
    {
     "name": "stdout",
     "output_type": "stream",
     "text": [
      "\n",
      "Loss -6127215.000000\n",
      "Model saved!\n",
      "--------------- Epoch 11 ---------------\n"
     ]
    },
    {
     "name": "stderr",
     "output_type": "stream",
     "text": [
      "100%|██████████| 36/36 [00:20<00:00,  1.79it/s]\n",
      "  0%|          | 0/36 [00:00<?, ?it/s]"
     ]
    },
    {
     "name": "stdout",
     "output_type": "stream",
     "text": [
      "\n",
      "--------------- Epoch 12 ---------------\n"
     ]
    },
    {
     "name": "stderr",
     "output_type": "stream",
     "text": [
      "100%|██████████| 36/36 [00:20<00:00,  1.80it/s]\n",
      "  0%|          | 0/36 [00:00<?, ?it/s]"
     ]
    },
    {
     "name": "stdout",
     "output_type": "stream",
     "text": [
      "\n",
      "--------------- Epoch 13 ---------------\n"
     ]
    },
    {
     "name": "stderr",
     "output_type": "stream",
     "text": [
      "100%|██████████| 36/36 [00:20<00:00,  1.79it/s]\n",
      "  0%|          | 0/36 [00:00<?, ?it/s]"
     ]
    },
    {
     "name": "stdout",
     "output_type": "stream",
     "text": [
      "\n",
      "--------------- Epoch 14 ---------------\n"
     ]
    },
    {
     "name": "stderr",
     "output_type": "stream",
     "text": [
      "100%|██████████| 36/36 [00:20<00:00,  1.79it/s]\n",
      "  0%|          | 0/36 [00:00<?, ?it/s]"
     ]
    },
    {
     "name": "stdout",
     "output_type": "stream",
     "text": [
      "\n",
      "Epoch 14/100... Loss 45.097458\n",
      "--------------- Epoch 15 ---------------\n"
     ]
    },
    {
     "name": "stderr",
     "output_type": "stream",
     "text": [
      "100%|██████████| 36/36 [00:20<00:00,  1.79it/s]\n",
      "  0%|          | 0/10 [00:00<?, ?it/s]"
     ]
    },
    {
     "name": "stdout",
     "output_type": "stream",
     "text": [
      "\n"
     ]
    },
    {
     "name": "stderr",
     "output_type": "stream",
     "text": [
      "100%|██████████| 10/10 [00:03<00:00,  3.12it/s]\n",
      "  0%|          | 0/36 [00:00<?, ?it/s]"
     ]
    },
    {
     "name": "stdout",
     "output_type": "stream",
     "text": [
      "\n",
      "Loss 3996120.000000\n",
      "Model saved!\n",
      "--------------- Epoch 16 ---------------\n"
     ]
    },
    {
     "name": "stderr",
     "output_type": "stream",
     "text": [
      "100%|██████████| 36/36 [00:20<00:00,  1.79it/s]\n",
      "  0%|          | 0/36 [00:00<?, ?it/s]"
     ]
    },
    {
     "name": "stdout",
     "output_type": "stream",
     "text": [
      "\n",
      "--------------- Epoch 17 ---------------\n"
     ]
    },
    {
     "name": "stderr",
     "output_type": "stream",
     "text": [
      "100%|██████████| 36/36 [00:20<00:00,  1.79it/s]\n",
      "  0%|          | 0/36 [00:00<?, ?it/s]"
     ]
    },
    {
     "name": "stdout",
     "output_type": "stream",
     "text": [
      "\n",
      "--------------- Epoch 18 ---------------\n"
     ]
    },
    {
     "name": "stderr",
     "output_type": "stream",
     "text": [
      "100%|██████████| 36/36 [00:20<00:00,  1.80it/s]\n",
      "  0%|          | 0/36 [00:00<?, ?it/s]"
     ]
    },
    {
     "name": "stdout",
     "output_type": "stream",
     "text": [
      "\n",
      "--------------- Epoch 19 ---------------\n"
     ]
    },
    {
     "name": "stderr",
     "output_type": "stream",
     "text": [
      "100%|██████████| 36/36 [00:20<00:00,  1.79it/s]\n",
      "  0%|          | 0/36 [00:00<?, ?it/s]"
     ]
    },
    {
     "name": "stdout",
     "output_type": "stream",
     "text": [
      "\n",
      "Epoch 19/100... Loss 42.150348\n",
      "--------------- Epoch 20 ---------------\n"
     ]
    },
    {
     "name": "stderr",
     "output_type": "stream",
     "text": [
      "100%|██████████| 36/36 [00:20<00:00,  1.80it/s]\n",
      "  0%|          | 0/10 [00:00<?, ?it/s]"
     ]
    },
    {
     "name": "stdout",
     "output_type": "stream",
     "text": [
      "\n"
     ]
    },
    {
     "name": "stderr",
     "output_type": "stream",
     "text": [
      "100%|██████████| 10/10 [00:03<00:00,  3.12it/s]\n",
      "  0%|          | 0/36 [00:00<?, ?it/s]"
     ]
    },
    {
     "name": "stdout",
     "output_type": "stream",
     "text": [
      "\n",
      "Loss -866150.000000\n",
      "Model saved!\n",
      "--------------- Epoch 21 ---------------\n"
     ]
    },
    {
     "name": "stderr",
     "output_type": "stream",
     "text": [
      "100%|██████████| 36/36 [00:20<00:00,  1.79it/s]\n",
      "  0%|          | 0/36 [00:00<?, ?it/s]"
     ]
    },
    {
     "name": "stdout",
     "output_type": "stream",
     "text": [
      "\n",
      "--------------- Epoch 22 ---------------\n"
     ]
    },
    {
     "name": "stderr",
     "output_type": "stream",
     "text": [
      "100%|██████████| 36/36 [00:20<00:00,  1.78it/s]\n",
      "  0%|          | 0/36 [00:00<?, ?it/s]"
     ]
    },
    {
     "name": "stdout",
     "output_type": "stream",
     "text": [
      "\n",
      "--------------- Epoch 23 ---------------\n"
     ]
    },
    {
     "name": "stderr",
     "output_type": "stream",
     "text": [
      "100%|██████████| 36/36 [00:20<00:00,  1.78it/s]\n",
      "  0%|          | 0/36 [00:00<?, ?it/s]"
     ]
    },
    {
     "name": "stdout",
     "output_type": "stream",
     "text": [
      "\n",
      "--------------- Epoch 24 ---------------\n"
     ]
    },
    {
     "name": "stderr",
     "output_type": "stream",
     "text": [
      "100%|██████████| 36/36 [00:20<00:00,  1.79it/s]\n",
      "  0%|          | 0/36 [00:00<?, ?it/s]"
     ]
    },
    {
     "name": "stdout",
     "output_type": "stream",
     "text": [
      "\n",
      "Epoch 24/100... Loss 37.308774\n",
      "--------------- Epoch 25 ---------------\n"
     ]
    },
    {
     "name": "stderr",
     "output_type": "stream",
     "text": [
      "100%|██████████| 36/36 [00:20<00:00,  1.79it/s]\n",
      "  0%|          | 0/10 [00:00<?, ?it/s]"
     ]
    },
    {
     "name": "stdout",
     "output_type": "stream",
     "text": [
      "\n"
     ]
    },
    {
     "name": "stderr",
     "output_type": "stream",
     "text": [
      "100%|██████████| 10/10 [00:03<00:00,  3.13it/s]\n",
      "  0%|          | 0/36 [00:00<?, ?it/s]"
     ]
    },
    {
     "name": "stdout",
     "output_type": "stream",
     "text": [
      "\n",
      "Loss -24873158.000000\n",
      "Model saved!\n",
      "--------------- Epoch 26 ---------------\n"
     ]
    },
    {
     "name": "stderr",
     "output_type": "stream",
     "text": [
      "100%|██████████| 36/36 [00:20<00:00,  1.78it/s]\n",
      "  0%|          | 0/36 [00:00<?, ?it/s]"
     ]
    },
    {
     "name": "stdout",
     "output_type": "stream",
     "text": [
      "\n",
      "--------------- Epoch 27 ---------------\n"
     ]
    },
    {
     "name": "stderr",
     "output_type": "stream",
     "text": [
      "100%|██████████| 36/36 [00:20<00:00,  1.78it/s]\n",
      "  0%|          | 0/36 [00:00<?, ?it/s]"
     ]
    },
    {
     "name": "stdout",
     "output_type": "stream",
     "text": [
      "\n",
      "--------------- Epoch 28 ---------------\n"
     ]
    },
    {
     "name": "stderr",
     "output_type": "stream",
     "text": [
      "100%|██████████| 36/36 [00:20<00:00,  1.79it/s]\n",
      "  0%|          | 0/36 [00:00<?, ?it/s]"
     ]
    },
    {
     "name": "stdout",
     "output_type": "stream",
     "text": [
      "\n",
      "--------------- Epoch 29 ---------------\n"
     ]
    },
    {
     "name": "stderr",
     "output_type": "stream",
     "text": [
      "100%|██████████| 36/36 [00:20<00:00,  1.78it/s]\n",
      "  0%|          | 0/36 [00:00<?, ?it/s]"
     ]
    },
    {
     "name": "stdout",
     "output_type": "stream",
     "text": [
      "\n",
      "Epoch 29/100... Loss 34.477443\n",
      "--------------- Epoch 30 ---------------\n"
     ]
    },
    {
     "name": "stderr",
     "output_type": "stream",
     "text": [
      "100%|██████████| 36/36 [00:20<00:00,  1.78it/s]\n",
      "  0%|          | 0/10 [00:00<?, ?it/s]"
     ]
    },
    {
     "name": "stdout",
     "output_type": "stream",
     "text": [
      "\n"
     ]
    },
    {
     "name": "stderr",
     "output_type": "stream",
     "text": [
      "100%|██████████| 10/10 [00:03<00:00,  3.13it/s]\n",
      "  0%|          | 0/36 [00:00<?, ?it/s]"
     ]
    },
    {
     "name": "stdout",
     "output_type": "stream",
     "text": [
      "\n",
      "Loss -11196585.000000\n",
      "Model saved!\n",
      "--------------- Epoch 31 ---------------\n"
     ]
    },
    {
     "name": "stderr",
     "output_type": "stream",
     "text": [
      "100%|██████████| 36/36 [00:20<00:00,  1.78it/s]\n",
      "  0%|          | 0/36 [00:00<?, ?it/s]"
     ]
    },
    {
     "name": "stdout",
     "output_type": "stream",
     "text": [
      "\n",
      "--------------- Epoch 32 ---------------\n"
     ]
    },
    {
     "name": "stderr",
     "output_type": "stream",
     "text": [
      "100%|██████████| 36/36 [00:20<00:00,  1.79it/s]\n",
      "  0%|          | 0/36 [00:00<?, ?it/s]"
     ]
    },
    {
     "name": "stdout",
     "output_type": "stream",
     "text": [
      "\n",
      "--------------- Epoch 33 ---------------\n"
     ]
    },
    {
     "name": "stderr",
     "output_type": "stream",
     "text": [
      "100%|██████████| 36/36 [00:20<00:00,  1.78it/s]\n",
      "  0%|          | 0/36 [00:00<?, ?it/s]"
     ]
    },
    {
     "name": "stdout",
     "output_type": "stream",
     "text": [
      "\n",
      "--------------- Epoch 34 ---------------\n"
     ]
    },
    {
     "name": "stderr",
     "output_type": "stream",
     "text": [
      "100%|██████████| 36/36 [00:20<00:00,  1.79it/s]\n",
      "  0%|          | 0/36 [00:00<?, ?it/s]"
     ]
    },
    {
     "name": "stdout",
     "output_type": "stream",
     "text": [
      "\n",
      "Epoch 34/100... Loss 34.214195\n",
      "--------------- Epoch 35 ---------------\n"
     ]
    },
    {
     "name": "stderr",
     "output_type": "stream",
     "text": [
      "100%|██████████| 36/36 [00:20<00:00,  1.79it/s]\n",
      "  0%|          | 0/10 [00:00<?, ?it/s]"
     ]
    },
    {
     "name": "stdout",
     "output_type": "stream",
     "text": [
      "\n"
     ]
    },
    {
     "name": "stderr",
     "output_type": "stream",
     "text": [
      "100%|██████████| 10/10 [00:03<00:00,  3.12it/s]\n",
      "  0%|          | 0/36 [00:00<?, ?it/s]"
     ]
    },
    {
     "name": "stdout",
     "output_type": "stream",
     "text": [
      "\n",
      "Loss -3986495.000000\n",
      "Model saved!\n",
      "--------------- Epoch 36 ---------------\n"
     ]
    },
    {
     "name": "stderr",
     "output_type": "stream",
     "text": [
      "100%|██████████| 36/36 [00:20<00:00,  1.78it/s]\n",
      "  0%|          | 0/36 [00:00<?, ?it/s]"
     ]
    },
    {
     "name": "stdout",
     "output_type": "stream",
     "text": [
      "\n",
      "--------------- Epoch 37 ---------------\n"
     ]
    },
    {
     "name": "stderr",
     "output_type": "stream",
     "text": [
      "100%|██████████| 36/36 [00:20<00:00,  1.79it/s]\n",
      "  0%|          | 0/36 [00:00<?, ?it/s]"
     ]
    },
    {
     "name": "stdout",
     "output_type": "stream",
     "text": [
      "\n",
      "--------------- Epoch 38 ---------------\n"
     ]
    },
    {
     "name": "stderr",
     "output_type": "stream",
     "text": [
      "100%|██████████| 36/36 [00:20<00:00,  1.79it/s]\n",
      "  0%|          | 0/36 [00:00<?, ?it/s]"
     ]
    },
    {
     "name": "stdout",
     "output_type": "stream",
     "text": [
      "\n",
      "--------------- Epoch 39 ---------------\n"
     ]
    },
    {
     "name": "stderr",
     "output_type": "stream",
     "text": [
      "100%|██████████| 36/36 [00:20<00:00,  1.79it/s]\n",
      "  0%|          | 0/36 [00:00<?, ?it/s]"
     ]
    },
    {
     "name": "stdout",
     "output_type": "stream",
     "text": [
      "\n",
      "Epoch 39/100... Loss 32.086584\n",
      "--------------- Epoch 40 ---------------\n"
     ]
    },
    {
     "name": "stderr",
     "output_type": "stream",
     "text": [
      "100%|██████████| 36/36 [00:20<00:00,  1.78it/s]\n",
      "  0%|          | 0/10 [00:00<?, ?it/s]"
     ]
    },
    {
     "name": "stdout",
     "output_type": "stream",
     "text": [
      "\n"
     ]
    },
    {
     "name": "stderr",
     "output_type": "stream",
     "text": [
      "100%|██████████| 10/10 [00:03<00:00,  3.13it/s]\n",
      "  0%|          | 0/36 [00:00<?, ?it/s]"
     ]
    },
    {
     "name": "stdout",
     "output_type": "stream",
     "text": [
      "\n",
      "Loss -28615923.000000\n",
      "Model saved!\n",
      "--------------- Epoch 41 ---------------\n"
     ]
    },
    {
     "name": "stderr",
     "output_type": "stream",
     "text": [
      "100%|██████████| 36/36 [00:20<00:00,  1.78it/s]\n",
      "  0%|          | 0/36 [00:00<?, ?it/s]"
     ]
    },
    {
     "name": "stdout",
     "output_type": "stream",
     "text": [
      "\n",
      "--------------- Epoch 42 ---------------\n"
     ]
    },
    {
     "name": "stderr",
     "output_type": "stream",
     "text": [
      "100%|██████████| 36/36 [00:20<00:00,  1.79it/s]\n",
      "  0%|          | 0/36 [00:00<?, ?it/s]"
     ]
    },
    {
     "name": "stdout",
     "output_type": "stream",
     "text": [
      "\n",
      "--------------- Epoch 43 ---------------\n"
     ]
    },
    {
     "name": "stderr",
     "output_type": "stream",
     "text": [
      "100%|██████████| 36/36 [00:20<00:00,  1.79it/s]\n",
      "  0%|          | 0/36 [00:00<?, ?it/s]"
     ]
    },
    {
     "name": "stdout",
     "output_type": "stream",
     "text": [
      "\n",
      "--------------- Epoch 44 ---------------\n"
     ]
    },
    {
     "name": "stderr",
     "output_type": "stream",
     "text": [
      "100%|██████████| 36/36 [00:20<00:00,  1.79it/s]\n",
      "  0%|          | 0/36 [00:00<?, ?it/s]"
     ]
    },
    {
     "name": "stdout",
     "output_type": "stream",
     "text": [
      "\n",
      "Epoch 44/100... Loss 30.768937\n",
      "--------------- Epoch 45 ---------------\n"
     ]
    },
    {
     "name": "stderr",
     "output_type": "stream",
     "text": [
      "100%|██████████| 36/36 [00:20<00:00,  1.79it/s]\n",
      "  0%|          | 0/10 [00:00<?, ?it/s]"
     ]
    },
    {
     "name": "stdout",
     "output_type": "stream",
     "text": [
      "\n"
     ]
    },
    {
     "name": "stderr",
     "output_type": "stream",
     "text": [
      "100%|██████████| 10/10 [00:03<00:00,  3.14it/s]\n",
      "  0%|          | 0/36 [00:00<?, ?it/s]"
     ]
    },
    {
     "name": "stdout",
     "output_type": "stream",
     "text": [
      "\n",
      "Loss -34392769.000000\n",
      "Model saved!\n",
      "--------------- Epoch 46 ---------------\n"
     ]
    },
    {
     "name": "stderr",
     "output_type": "stream",
     "text": [
      "100%|██████████| 36/36 [00:20<00:00,  1.79it/s]\n",
      "  0%|          | 0/36 [00:00<?, ?it/s]"
     ]
    },
    {
     "name": "stdout",
     "output_type": "stream",
     "text": [
      "\n",
      "--------------- Epoch 47 ---------------\n"
     ]
    },
    {
     "name": "stderr",
     "output_type": "stream",
     "text": [
      "100%|██████████| 36/36 [00:20<00:00,  1.78it/s]\n",
      "  0%|          | 0/36 [00:00<?, ?it/s]"
     ]
    },
    {
     "name": "stdout",
     "output_type": "stream",
     "text": [
      "\n",
      "--------------- Epoch 48 ---------------\n"
     ]
    },
    {
     "name": "stderr",
     "output_type": "stream",
     "text": [
      "100%|██████████| 36/36 [00:20<00:00,  1.78it/s]\n",
      "  0%|          | 0/36 [00:00<?, ?it/s]"
     ]
    },
    {
     "name": "stdout",
     "output_type": "stream",
     "text": [
      "\n",
      "--------------- Epoch 49 ---------------\n"
     ]
    },
    {
     "name": "stderr",
     "output_type": "stream",
     "text": [
      "100%|██████████| 36/36 [00:20<00:00,  1.79it/s]\n",
      "  0%|          | 0/36 [00:00<?, ?it/s]"
     ]
    },
    {
     "name": "stdout",
     "output_type": "stream",
     "text": [
      "\n",
      "Epoch 49/100... Loss 29.159791\n",
      "--------------- Epoch 50 ---------------\n"
     ]
    },
    {
     "name": "stderr",
     "output_type": "stream",
     "text": [
      "100%|██████████| 36/36 [00:20<00:00,  1.78it/s]\n",
      "  0%|          | 0/10 [00:00<?, ?it/s]"
     ]
    },
    {
     "name": "stdout",
     "output_type": "stream",
     "text": [
      "\n"
     ]
    },
    {
     "name": "stderr",
     "output_type": "stream",
     "text": [
      "100%|██████████| 10/10 [00:03<00:00,  3.15it/s]\n",
      "  0%|          | 0/36 [00:00<?, ?it/s]"
     ]
    },
    {
     "name": "stdout",
     "output_type": "stream",
     "text": [
      "\n",
      "Loss -20228514.000000\n",
      "Model saved!\n",
      "--------------- Epoch 51 ---------------\n"
     ]
    },
    {
     "name": "stderr",
     "output_type": "stream",
     "text": [
      "100%|██████████| 36/36 [00:20<00:00,  1.79it/s]\n",
      "  0%|          | 0/36 [00:00<?, ?it/s]"
     ]
    },
    {
     "name": "stdout",
     "output_type": "stream",
     "text": [
      "\n",
      "--------------- Epoch 52 ---------------\n"
     ]
    },
    {
     "name": "stderr",
     "output_type": "stream",
     "text": [
      "100%|██████████| 36/36 [00:20<00:00,  1.78it/s]\n",
      "  0%|          | 0/36 [00:00<?, ?it/s]"
     ]
    },
    {
     "name": "stdout",
     "output_type": "stream",
     "text": [
      "\n",
      "--------------- Epoch 53 ---------------\n"
     ]
    },
    {
     "name": "stderr",
     "output_type": "stream",
     "text": [
      "100%|██████████| 36/36 [00:20<00:00,  1.78it/s]\n",
      "  0%|          | 0/36 [00:00<?, ?it/s]"
     ]
    },
    {
     "name": "stdout",
     "output_type": "stream",
     "text": [
      "\n",
      "--------------- Epoch 54 ---------------\n"
     ]
    },
    {
     "name": "stderr",
     "output_type": "stream",
     "text": [
      "100%|██████████| 36/36 [00:20<00:00,  1.79it/s]\n",
      "  0%|          | 0/36 [00:00<?, ?it/s]"
     ]
    },
    {
     "name": "stdout",
     "output_type": "stream",
     "text": [
      "\n",
      "Epoch 54/100... Loss 28.064103\n",
      "--------------- Epoch 55 ---------------\n"
     ]
    },
    {
     "name": "stderr",
     "output_type": "stream",
     "text": [
      "100%|██████████| 36/36 [00:20<00:00,  1.78it/s]\n",
      "  0%|          | 0/10 [00:00<?, ?it/s]"
     ]
    },
    {
     "name": "stdout",
     "output_type": "stream",
     "text": [
      "\n"
     ]
    },
    {
     "name": "stderr",
     "output_type": "stream",
     "text": [
      "100%|██████████| 10/10 [00:03<00:00,  3.13it/s]\n",
      "  0%|          | 0/36 [00:00<?, ?it/s]"
     ]
    },
    {
     "name": "stdout",
     "output_type": "stream",
     "text": [
      "\n",
      "Loss -23086011.000000\n",
      "Model saved!\n",
      "--------------- Epoch 56 ---------------\n"
     ]
    },
    {
     "name": "stderr",
     "output_type": "stream",
     "text": [
      "100%|██████████| 36/36 [00:20<00:00,  1.80it/s]\n",
      "  0%|          | 0/36 [00:00<?, ?it/s]"
     ]
    },
    {
     "name": "stdout",
     "output_type": "stream",
     "text": [
      "\n",
      "--------------- Epoch 57 ---------------\n"
     ]
    },
    {
     "name": "stderr",
     "output_type": "stream",
     "text": [
      "100%|██████████| 36/36 [00:20<00:00,  1.78it/s]\n",
      "  0%|          | 0/36 [00:00<?, ?it/s]"
     ]
    },
    {
     "name": "stdout",
     "output_type": "stream",
     "text": [
      "\n",
      "--------------- Epoch 58 ---------------\n"
     ]
    },
    {
     "name": "stderr",
     "output_type": "stream",
     "text": [
      "100%|██████████| 36/36 [00:20<00:00,  1.78it/s]\n",
      "  0%|          | 0/36 [00:00<?, ?it/s]"
     ]
    },
    {
     "name": "stdout",
     "output_type": "stream",
     "text": [
      "\n",
      "--------------- Epoch 59 ---------------\n"
     ]
    },
    {
     "name": "stderr",
     "output_type": "stream",
     "text": [
      "100%|██████████| 36/36 [00:20<00:00,  1.78it/s]\n",
      "  0%|          | 0/36 [00:00<?, ?it/s]"
     ]
    },
    {
     "name": "stdout",
     "output_type": "stream",
     "text": [
      "\n",
      "Epoch 59/100... Loss 27.019130\n",
      "--------------- Epoch 60 ---------------\n"
     ]
    },
    {
     "name": "stderr",
     "output_type": "stream",
     "text": [
      "100%|██████████| 36/36 [00:20<00:00,  1.78it/s]\n",
      "  0%|          | 0/10 [00:00<?, ?it/s]"
     ]
    },
    {
     "name": "stdout",
     "output_type": "stream",
     "text": [
      "\n"
     ]
    },
    {
     "name": "stderr",
     "output_type": "stream",
     "text": [
      "100%|██████████| 10/10 [00:03<00:00,  3.12it/s]\n",
      "  0%|          | 0/36 [00:00<?, ?it/s]"
     ]
    },
    {
     "name": "stdout",
     "output_type": "stream",
     "text": [
      "\n",
      "Loss -25827460.000000\n",
      "Model saved!\n",
      "--------------- Epoch 61 ---------------\n"
     ]
    },
    {
     "name": "stderr",
     "output_type": "stream",
     "text": [
      "100%|██████████| 36/36 [00:20<00:00,  1.78it/s]\n",
      "  0%|          | 0/36 [00:00<?, ?it/s]"
     ]
    },
    {
     "name": "stdout",
     "output_type": "stream",
     "text": [
      "\n",
      "--------------- Epoch 62 ---------------\n"
     ]
    },
    {
     "name": "stderr",
     "output_type": "stream",
     "text": [
      "100%|██████████| 36/36 [00:20<00:00,  1.80it/s]\n",
      "  0%|          | 0/36 [00:00<?, ?it/s]"
     ]
    },
    {
     "name": "stdout",
     "output_type": "stream",
     "text": [
      "\n",
      "--------------- Epoch 63 ---------------\n"
     ]
    },
    {
     "name": "stderr",
     "output_type": "stream",
     "text": [
      "100%|██████████| 36/36 [00:20<00:00,  1.78it/s]\n",
      "  0%|          | 0/36 [00:00<?, ?it/s]"
     ]
    },
    {
     "name": "stdout",
     "output_type": "stream",
     "text": [
      "\n",
      "--------------- Epoch 64 ---------------\n"
     ]
    },
    {
     "name": "stderr",
     "output_type": "stream",
     "text": [
      "100%|██████████| 36/36 [00:20<00:00,  1.78it/s]\n",
      "  0%|          | 0/36 [00:00<?, ?it/s]"
     ]
    },
    {
     "name": "stdout",
     "output_type": "stream",
     "text": [
      "\n",
      "Epoch 64/100... Loss 25.468911\n",
      "--------------- Epoch 65 ---------------\n"
     ]
    },
    {
     "name": "stderr",
     "output_type": "stream",
     "text": [
      "100%|██████████| 36/36 [00:20<00:00,  1.78it/s]\n",
      "  0%|          | 0/10 [00:00<?, ?it/s]"
     ]
    },
    {
     "name": "stdout",
     "output_type": "stream",
     "text": [
      "\n"
     ]
    },
    {
     "name": "stderr",
     "output_type": "stream",
     "text": [
      "100%|██████████| 10/10 [00:03<00:00,  3.13it/s]\n",
      "  0%|          | 0/36 [00:00<?, ?it/s]"
     ]
    },
    {
     "name": "stdout",
     "output_type": "stream",
     "text": [
      "\n",
      "Loss -26429398.000000\n",
      "Model saved!\n",
      "--------------- Epoch 66 ---------------\n"
     ]
    },
    {
     "name": "stderr",
     "output_type": "stream",
     "text": [
      "100%|██████████| 36/36 [00:20<00:00,  1.78it/s]\n",
      "  0%|          | 0/36 [00:00<?, ?it/s]"
     ]
    },
    {
     "name": "stdout",
     "output_type": "stream",
     "text": [
      "\n",
      "--------------- Epoch 67 ---------------\n"
     ]
    },
    {
     "name": "stderr",
     "output_type": "stream",
     "text": [
      "100%|██████████| 36/36 [00:20<00:00,  1.79it/s]\n",
      "  0%|          | 0/36 [00:00<?, ?it/s]"
     ]
    },
    {
     "name": "stdout",
     "output_type": "stream",
     "text": [
      "\n",
      "--------------- Epoch 68 ---------------\n"
     ]
    },
    {
     "name": "stderr",
     "output_type": "stream",
     "text": [
      "100%|██████████| 36/36 [00:20<00:00,  1.78it/s]\n",
      "  0%|          | 0/36 [00:00<?, ?it/s]"
     ]
    },
    {
     "name": "stdout",
     "output_type": "stream",
     "text": [
      "\n",
      "--------------- Epoch 69 ---------------\n"
     ]
    },
    {
     "name": "stderr",
     "output_type": "stream",
     "text": [
      "100%|██████████| 36/36 [00:20<00:00,  1.78it/s]\n",
      "  0%|          | 0/36 [00:00<?, ?it/s]"
     ]
    },
    {
     "name": "stdout",
     "output_type": "stream",
     "text": [
      "\n",
      "Epoch 69/100... Loss 24.259673\n",
      "--------------- Epoch 70 ---------------\n"
     ]
    },
    {
     "name": "stderr",
     "output_type": "stream",
     "text": [
      "100%|██████████| 36/36 [00:20<00:00,  1.78it/s]\n",
      "  0%|          | 0/10 [00:00<?, ?it/s]"
     ]
    },
    {
     "name": "stdout",
     "output_type": "stream",
     "text": [
      "\n"
     ]
    },
    {
     "name": "stderr",
     "output_type": "stream",
     "text": [
      "100%|██████████| 10/10 [00:03<00:00,  3.13it/s]\n",
      "  0%|          | 0/36 [00:00<?, ?it/s]"
     ]
    },
    {
     "name": "stdout",
     "output_type": "stream",
     "text": [
      "\n",
      "Loss -24817580.000000\n",
      "Model saved!\n",
      "--------------- Epoch 71 ---------------\n"
     ]
    },
    {
     "name": "stderr",
     "output_type": "stream",
     "text": [
      "100%|██████████| 36/36 [00:20<00:00,  1.79it/s]\n",
      "  0%|          | 0/36 [00:00<?, ?it/s]"
     ]
    },
    {
     "name": "stdout",
     "output_type": "stream",
     "text": [
      "\n",
      "--------------- Epoch 72 ---------------\n"
     ]
    },
    {
     "name": "stderr",
     "output_type": "stream",
     "text": [
      "100%|██████████| 36/36 [00:20<00:00,  1.78it/s]\n",
      "  0%|          | 0/36 [00:00<?, ?it/s]"
     ]
    },
    {
     "name": "stdout",
     "output_type": "stream",
     "text": [
      "\n",
      "--------------- Epoch 73 ---------------\n"
     ]
    },
    {
     "name": "stderr",
     "output_type": "stream",
     "text": [
      "100%|██████████| 36/36 [00:20<00:00,  1.79it/s]\n",
      "  0%|          | 0/36 [00:00<?, ?it/s]"
     ]
    },
    {
     "name": "stdout",
     "output_type": "stream",
     "text": [
      "\n",
      "--------------- Epoch 74 ---------------\n"
     ]
    },
    {
     "name": "stderr",
     "output_type": "stream",
     "text": [
      "100%|██████████| 36/36 [00:20<00:00,  1.79it/s]\n",
      "  0%|          | 0/36 [00:00<?, ?it/s]"
     ]
    },
    {
     "name": "stdout",
     "output_type": "stream",
     "text": [
      "\n",
      "Epoch 74/100... Loss 23.549453\n",
      "--------------- Epoch 75 ---------------\n"
     ]
    },
    {
     "name": "stderr",
     "output_type": "stream",
     "text": [
      "100%|██████████| 36/36 [00:20<00:00,  1.79it/s]\n",
      "  0%|          | 0/10 [00:00<?, ?it/s]"
     ]
    },
    {
     "name": "stdout",
     "output_type": "stream",
     "text": [
      "\n"
     ]
    },
    {
     "name": "stderr",
     "output_type": "stream",
     "text": [
      "100%|██████████| 10/10 [00:03<00:00,  3.14it/s]\n",
      "  0%|          | 0/36 [00:00<?, ?it/s]"
     ]
    },
    {
     "name": "stdout",
     "output_type": "stream",
     "text": [
      "\n",
      "Loss -24623111.000000\n",
      "Model saved!\n",
      "--------------- Epoch 76 ---------------\n"
     ]
    },
    {
     "name": "stderr",
     "output_type": "stream",
     "text": [
      "100%|██████████| 36/36 [00:20<00:00,  1.79it/s]\n",
      "  0%|          | 0/36 [00:00<?, ?it/s]"
     ]
    },
    {
     "name": "stdout",
     "output_type": "stream",
     "text": [
      "\n",
      "--------------- Epoch 77 ---------------\n"
     ]
    },
    {
     "name": "stderr",
     "output_type": "stream",
     "text": [
      "100%|██████████| 36/36 [00:20<00:00,  1.79it/s]\n",
      "  0%|          | 0/36 [00:00<?, ?it/s]"
     ]
    },
    {
     "name": "stdout",
     "output_type": "stream",
     "text": [
      "\n",
      "--------------- Epoch 78 ---------------\n"
     ]
    },
    {
     "name": "stderr",
     "output_type": "stream",
     "text": [
      "100%|██████████| 36/36 [00:20<00:00,  1.78it/s]\n",
      "  0%|          | 0/36 [00:00<?, ?it/s]"
     ]
    },
    {
     "name": "stdout",
     "output_type": "stream",
     "text": [
      "\n",
      "--------------- Epoch 79 ---------------\n"
     ]
    },
    {
     "name": "stderr",
     "output_type": "stream",
     "text": [
      "100%|██████████| 36/36 [00:20<00:00,  1.79it/s]\n",
      "  0%|          | 0/36 [00:00<?, ?it/s]"
     ]
    },
    {
     "name": "stdout",
     "output_type": "stream",
     "text": [
      "\n",
      "Epoch 79/100... Loss 23.838939\n",
      "--------------- Epoch 80 ---------------\n"
     ]
    },
    {
     "name": "stderr",
     "output_type": "stream",
     "text": [
      "100%|██████████| 36/36 [00:20<00:00,  1.78it/s]\n",
      "  0%|          | 0/10 [00:00<?, ?it/s]"
     ]
    },
    {
     "name": "stdout",
     "output_type": "stream",
     "text": [
      "\n"
     ]
    },
    {
     "name": "stderr",
     "output_type": "stream",
     "text": [
      "100%|██████████| 10/10 [00:03<00:00,  3.14it/s]\n",
      "  0%|          | 0/36 [00:00<?, ?it/s]"
     ]
    },
    {
     "name": "stdout",
     "output_type": "stream",
     "text": [
      "\n",
      "Loss -19769815.000000\n",
      "Model saved!\n",
      "--------------- Epoch 81 ---------------\n"
     ]
    },
    {
     "name": "stderr",
     "output_type": "stream",
     "text": [
      "100%|██████████| 36/36 [00:20<00:00,  1.79it/s]\n",
      "  0%|          | 0/36 [00:00<?, ?it/s]"
     ]
    },
    {
     "name": "stdout",
     "output_type": "stream",
     "text": [
      "\n",
      "--------------- Epoch 82 ---------------\n"
     ]
    },
    {
     "name": "stderr",
     "output_type": "stream",
     "text": [
      "100%|██████████| 36/36 [00:20<00:00,  1.79it/s]\n",
      "  0%|          | 0/36 [00:00<?, ?it/s]"
     ]
    },
    {
     "name": "stdout",
     "output_type": "stream",
     "text": [
      "\n",
      "--------------- Epoch 83 ---------------\n"
     ]
    },
    {
     "name": "stderr",
     "output_type": "stream",
     "text": [
      "100%|██████████| 36/36 [00:20<00:00,  1.78it/s]\n",
      "  0%|          | 0/36 [00:00<?, ?it/s]"
     ]
    },
    {
     "name": "stdout",
     "output_type": "stream",
     "text": [
      "\n",
      "--------------- Epoch 84 ---------------\n"
     ]
    },
    {
     "name": "stderr",
     "output_type": "stream",
     "text": [
      "100%|██████████| 36/36 [00:20<00:00,  1.79it/s]\n",
      "  0%|          | 0/36 [00:00<?, ?it/s]"
     ]
    },
    {
     "name": "stdout",
     "output_type": "stream",
     "text": [
      "\n",
      "Epoch 84/100... Loss 22.748149\n",
      "--------------- Epoch 85 ---------------\n"
     ]
    },
    {
     "name": "stderr",
     "output_type": "stream",
     "text": [
      "100%|██████████| 36/36 [00:20<00:00,  1.78it/s]\n",
      "  0%|          | 0/10 [00:00<?, ?it/s]"
     ]
    },
    {
     "name": "stdout",
     "output_type": "stream",
     "text": [
      "\n"
     ]
    },
    {
     "name": "stderr",
     "output_type": "stream",
     "text": [
      "100%|██████████| 10/10 [00:03<00:00,  3.12it/s]\n",
      "  0%|          | 0/36 [00:00<?, ?it/s]"
     ]
    },
    {
     "name": "stdout",
     "output_type": "stream",
     "text": [
      "\n",
      "Loss -25136630.000000\n",
      "Model saved!\n",
      "--------------- Epoch 86 ---------------\n"
     ]
    },
    {
     "name": "stderr",
     "output_type": "stream",
     "text": [
      "100%|██████████| 36/36 [00:20<00:00,  1.78it/s]\n",
      "  0%|          | 0/36 [00:00<?, ?it/s]"
     ]
    },
    {
     "name": "stdout",
     "output_type": "stream",
     "text": [
      "\n",
      "--------------- Epoch 87 ---------------\n"
     ]
    },
    {
     "name": "stderr",
     "output_type": "stream",
     "text": [
      "100%|██████████| 36/36 [00:20<00:00,  1.79it/s]\n",
      "  0%|          | 0/36 [00:00<?, ?it/s]"
     ]
    },
    {
     "name": "stdout",
     "output_type": "stream",
     "text": [
      "\n",
      "--------------- Epoch 88 ---------------\n"
     ]
    },
    {
     "name": "stderr",
     "output_type": "stream",
     "text": [
      "100%|██████████| 36/36 [00:20<00:00,  1.79it/s]\n",
      "  0%|          | 0/36 [00:00<?, ?it/s]"
     ]
    },
    {
     "name": "stdout",
     "output_type": "stream",
     "text": [
      "\n",
      "--------------- Epoch 89 ---------------\n"
     ]
    },
    {
     "name": "stderr",
     "output_type": "stream",
     "text": [
      "100%|██████████| 36/36 [00:20<00:00,  1.79it/s]\n",
      "  0%|          | 0/36 [00:00<?, ?it/s]"
     ]
    },
    {
     "name": "stdout",
     "output_type": "stream",
     "text": [
      "\n",
      "Epoch 89/100... Loss 22.213747\n",
      "--------------- Epoch 90 ---------------\n"
     ]
    },
    {
     "name": "stderr",
     "output_type": "stream",
     "text": [
      "100%|██████████| 36/36 [00:20<00:00,  1.78it/s]\n",
      "  0%|          | 0/10 [00:00<?, ?it/s]"
     ]
    },
    {
     "name": "stdout",
     "output_type": "stream",
     "text": [
      "\n"
     ]
    },
    {
     "name": "stderr",
     "output_type": "stream",
     "text": [
      "100%|██████████| 10/10 [00:03<00:00,  3.13it/s]\n",
      "  0%|          | 0/36 [00:00<?, ?it/s]"
     ]
    },
    {
     "name": "stdout",
     "output_type": "stream",
     "text": [
      "\n",
      "Loss -25361560.000000\n",
      "Model saved!\n",
      "--------------- Epoch 91 ---------------\n"
     ]
    },
    {
     "name": "stderr",
     "output_type": "stream",
     "text": [
      "100%|██████████| 36/36 [00:20<00:00,  1.78it/s]\n",
      "  0%|          | 0/36 [00:00<?, ?it/s]"
     ]
    },
    {
     "name": "stdout",
     "output_type": "stream",
     "text": [
      "\n",
      "--------------- Epoch 92 ---------------\n"
     ]
    },
    {
     "name": "stderr",
     "output_type": "stream",
     "text": [
      "100%|██████████| 36/36 [00:20<00:00,  1.79it/s]\n",
      "  0%|          | 0/36 [00:00<?, ?it/s]"
     ]
    },
    {
     "name": "stdout",
     "output_type": "stream",
     "text": [
      "\n",
      "--------------- Epoch 93 ---------------\n"
     ]
    },
    {
     "name": "stderr",
     "output_type": "stream",
     "text": [
      "100%|██████████| 36/36 [00:20<00:00,  1.79it/s]\n",
      "  0%|          | 0/36 [00:00<?, ?it/s]"
     ]
    },
    {
     "name": "stdout",
     "output_type": "stream",
     "text": [
      "\n",
      "--------------- Epoch 94 ---------------\n"
     ]
    },
    {
     "name": "stderr",
     "output_type": "stream",
     "text": [
      "100%|██████████| 36/36 [00:20<00:00,  1.78it/s]\n",
      "  0%|          | 0/36 [00:00<?, ?it/s]"
     ]
    },
    {
     "name": "stdout",
     "output_type": "stream",
     "text": [
      "\n",
      "Epoch 94/100... Loss 22.120461\n",
      "--------------- Epoch 95 ---------------\n"
     ]
    },
    {
     "name": "stderr",
     "output_type": "stream",
     "text": [
      "100%|██████████| 36/36 [00:20<00:00,  1.78it/s]\n",
      "  0%|          | 0/10 [00:00<?, ?it/s]"
     ]
    },
    {
     "name": "stdout",
     "output_type": "stream",
     "text": [
      "\n"
     ]
    },
    {
     "name": "stderr",
     "output_type": "stream",
     "text": [
      "100%|██████████| 10/10 [00:03<00:00,  3.12it/s]\n",
      "  0%|          | 0/36 [00:00<?, ?it/s]"
     ]
    },
    {
     "name": "stdout",
     "output_type": "stream",
     "text": [
      "\n",
      "Loss -25817753.000000\n",
      "Model saved!\n",
      "--------------- Epoch 96 ---------------\n"
     ]
    },
    {
     "name": "stderr",
     "output_type": "stream",
     "text": [
      "100%|██████████| 36/36 [00:20<00:00,  1.78it/s]\n",
      "  0%|          | 0/36 [00:00<?, ?it/s]"
     ]
    },
    {
     "name": "stdout",
     "output_type": "stream",
     "text": [
      "\n",
      "--------------- Epoch 97 ---------------\n"
     ]
    },
    {
     "name": "stderr",
     "output_type": "stream",
     "text": [
      "100%|██████████| 36/36 [00:20<00:00,  1.80it/s]\n",
      "  0%|          | 0/36 [00:00<?, ?it/s]"
     ]
    },
    {
     "name": "stdout",
     "output_type": "stream",
     "text": [
      "\n",
      "--------------- Epoch 98 ---------------\n"
     ]
    },
    {
     "name": "stderr",
     "output_type": "stream",
     "text": [
      "100%|██████████| 36/36 [00:20<00:00,  1.78it/s]\n",
      "  0%|          | 0/36 [00:00<?, ?it/s]"
     ]
    },
    {
     "name": "stdout",
     "output_type": "stream",
     "text": [
      "\n",
      "--------------- Epoch 99 ---------------\n"
     ]
    },
    {
     "name": "stderr",
     "output_type": "stream",
     "text": [
      "100%|██████████| 36/36 [00:20<00:00,  1.77it/s]\n",
      "  0%|          | 0/36 [00:00<?, ?it/s]"
     ]
    },
    {
     "name": "stdout",
     "output_type": "stream",
     "text": [
      "\n",
      "Epoch 99/100... Loss 22.147807\n",
      "--------------- Epoch 100 ---------------\n"
     ]
    },
    {
     "name": "stderr",
     "output_type": "stream",
     "text": [
      "100%|██████████| 36/36 [00:20<00:00,  1.79it/s]\n",
      "  0%|          | 0/10 [00:00<?, ?it/s]"
     ]
    },
    {
     "name": "stdout",
     "output_type": "stream",
     "text": [
      "\n"
     ]
    },
    {
     "name": "stderr",
     "output_type": "stream",
     "text": [
      "100%|██████████| 10/10 [00:03<00:00,  3.11it/s]"
     ]
    },
    {
     "name": "stdout",
     "output_type": "stream",
     "text": [
      "\n",
      "Loss -24830920.000000\n",
      "Model saved!\n",
      "Epoch 100/100... Total Mean Loss: 32.914398\n"
     ]
    },
    {
     "name": "stderr",
     "output_type": "stream",
     "text": [
      "\n"
     ]
    }
   ],
   "source": [
    "train_losses = []\n",
    "eval_losses = []\n",
    "\n",
    "bc_train = 367 // batch_size # mini_batch train\n",
    "bc_eval = 101 // batch_size  # mini_batch validation\n",
    "\n",
    "# Define pipeline objects\n",
    "pipe = loader('./content/train/', './content/trainannot/', batch_size)\n",
    "eval_pipe = loader('./content/val/', './content/valannot/', batch_size)\n",
    "\n",
    "epochs = 100\n",
    "\n",
    "# Train loop\n",
    "\n",
    "for e in range(1, epochs+1):\n",
    "    \n",
    "    \n",
    "    train_loss = 0\n",
    "    print ('-'*15,'Epoch %d' % e, '-'*15)\n",
    "    \n",
    "    enet.train()\n",
    "    \n",
    "    for _ in tqdm(range(bc_train)):\n",
    "        X_batch, mask_batch = next(pipe)\n",
    "        \n",
    "        # assign data to cpu/gpu\n",
    "        X_batch, mask_batch = X_batch.to(device), mask_batch.to(device)\n",
    "\n",
    "        optimizer.zero_grad()\n",
    "\n",
    "        out = enet(X_batch.float())\n",
    "        \n",
    "        # loss calculation\n",
    "        loss = criterion(out, mask_batch.long())\n",
    "        # update weights\n",
    "        loss.backward()\n",
    "        optimizer.step()\n",
    "\n",
    "        train_loss += loss.item()\n",
    "\n",
    "        \n",
    "    print ()\n",
    "    train_losses.append(train_loss)\n",
    "    \n",
    "    if (e+1) % print_every == 0:\n",
    "        print ('Epoch {}/{}...'.format(e, epochs),\n",
    "                'Loss {:6f}'.format(train_loss))\n",
    "    \n",
    "    if e % eval_every == 0:\n",
    "        with torch.no_grad():\n",
    "            enet.eval()\n",
    "            \n",
    "            eval_loss = 0\n",
    "\n",
    "            # Validation loop\n",
    "            for _ in tqdm(range(bc_eval)):\n",
    "                inputs, labels = next(eval_pipe)\n",
    "\n",
    "                \n",
    "                inputs, labels = inputs.to(device), labels.to(device)\n",
    "                    \n",
    "                \n",
    "                out = enet(inputs)\n",
    "                \n",
    "                out = out.data.max(1)[1]\n",
    "                \n",
    "                eval_loss += (labels.long() - out.long()).sum()\n",
    "                \n",
    "            \n",
    "            print ()\n",
    "            print ('Loss {:6f}'.format(eval_loss))\n",
    "            \n",
    "            eval_losses.append(eval_loss)\n",
    "        \n",
    "    if e % print_every == 0:\n",
    "        checkpoint = {\n",
    "            'epochs' : e,\n",
    "            'state_dict' : enet.state_dict()\n",
    "        }\n",
    "        torch.save(checkpoint, './content/ckpt-enet-{}-{}.pth'.format(e, train_loss))\n",
    "        print ('Model saved!')\n",
    "\n",
    "print ('Epoch {}/{}...'.format(e, epochs),\n",
    "       'Total Mean Loss: {:6f}'.format(sum(train_losses) / epochs))"
   ]
  },
  {
   "cell_type": "markdown",
   "metadata": {
    "colab_type": "text",
    "id": "bdp5YLb0ibFO"
   },
   "source": [
    "## Infer using the trained model"
   ]
  },
  {
   "cell_type": "markdown",
   "metadata": {
    "colab_type": "text",
    "id": "cspEQPgEKVvg"
   },
   "source": [
    "Get the PreTrained ENet model"
   ]
  },
  {
   "cell_type": "code",
   "execution_count": 21,
   "metadata": {
    "colab": {
     "base_uri": "https://localhost:8080/",
     "height": 301
    },
    "colab_type": "code",
    "id": "kbxiHfeVKGg_",
    "outputId": "fd20e12b-7b64-4539-b2e2-91c06fa452b9"
   },
   "outputs": [
    {
     "name": "stdout",
     "output_type": "stream",
     "text": [
      "--2019-05-03 15:20:27--  https://github.com/iArunava/ENet-Real-Time-Semantic-Segmentation/raw/master/datasets/CamVid/ckpt-enet.pth\n",
      "Resolving github.com (github.com)... 140.82.118.4\n",
      "Connecting to github.com (github.com)|140.82.118.4|:443... connected.\n",
      "HTTP request sent, awaiting response... 302 Found\n",
      "Location: https://raw.githubusercontent.com/iArunava/ENet-Real-Time-Semantic-Segmentation/master/datasets/CamVid/ckpt-enet.pth [following]\n",
      "--2019-05-03 15:20:28--  https://raw.githubusercontent.com/iArunava/ENet-Real-Time-Semantic-Segmentation/master/datasets/CamVid/ckpt-enet.pth\n",
      "Resolving raw.githubusercontent.com (raw.githubusercontent.com)... 151.101.12.133\n",
      "Connecting to raw.githubusercontent.com (raw.githubusercontent.com)|151.101.12.133|:443... connected.\n",
      "HTTP request sent, awaiting response... 200 OK\n",
      "Length: 1515928 (1,4M) [application/octet-stream]\n",
      "Saving to: ‘./content/ckpt-enet-CamVid-downloaded.pth’\n",
      "\n",
      "./content/ckpt-enet 100%[===================>]   1,45M  2,04MB/s    in 0,7s    \n",
      "\n",
      "2019-05-03 15:20:29 (2,04 MB/s) - ‘./content/ckpt-enet-CamVid-downloaded.pth’ saved [1515928/1515928]\n",
      "\n"
     ]
    }
   ],
   "source": [
    "!wget https://github.com/iArunava/ENet-Real-Time-Semantic-Segmentation/raw/master/datasets/CamVid/ckpt-enet.pth -O ./content/ckpt-enet-CamVid-downloaded.pth"
   ]
  },
  {
   "cell_type": "markdown",
   "metadata": {
    "colab_type": "text",
    "id": "T9CV4mHhKYZ5"
   },
   "source": [
    "Load the ENet model"
   ]
  },
  {
   "cell_type": "code",
   "execution_count": 25,
   "metadata": {
    "colab": {},
    "colab_type": "code",
    "id": "wXB9XRE3iddC"
   },
   "outputs": [
    {
     "data": {
      "text/plain": [
       "IncompatibleKeys(missing_keys=[], unexpected_keys=[])"
      ]
     },
     "execution_count": 25,
     "metadata": {},
     "output_type": "execute_result"
    }
   ],
   "source": [
    "# Load a pretrained model if needed\n",
    "enet = ENet(12)\n",
    "state_dict = torch.load('./content/ckpt-enet-CamVid-downloaded.pth')['state_dict']\n",
    "enet.load_state_dict(state_dict)"
   ]
  },
  {
   "cell_type": "markdown",
   "metadata": {
    "colab_type": "text",
    "id": "9dWM6D5Rl_Mq"
   },
   "source": [
    "## Use the code to infer on new images"
   ]
  },
  {
   "cell_type": "code",
   "execution_count": 26,
   "metadata": {
    "colab": {},
    "colab_type": "code",
    "id": "8pxajTHj5vNG"
   },
   "outputs": [],
   "source": [
    "fname = 'Seq05VD_f05100.png'\n",
    "tmg_ = plt.imread('./content/test/' + fname)\n",
    "tmg_ = cv2.resize(tmg_, (512, 512), cv2.INTER_NEAREST)\n",
    "tmg = torch.tensor(tmg_).unsqueeze(0).float()\n",
    "tmg = tmg.transpose(2, 3).transpose(1, 2).to(device)\n",
    "\n",
    "enet.to(device)\n",
    "with torch.no_grad():\n",
    "    out1 = enet(tmg.float()).squeeze(0)"
   ]
  },
  {
   "cell_type": "markdown",
   "metadata": {
    "colab_type": "text",
    "id": "N8vh2eozpAAh"
   },
   "source": [
    "## Load the label image"
   ]
  },
  {
   "cell_type": "code",
   "execution_count": 27,
   "metadata": {
    "colab": {},
    "colab_type": "code",
    "id": "8zQiSaeeo_rZ"
   },
   "outputs": [],
   "source": [
    "smg_ = Image.open('./content/testannot/' + fname)\n",
    "smg_ = cv2.resize(np.array(smg_), (512, 512), cv2.INTER_NEAREST)"
   ]
  },
  {
   "cell_type": "markdown",
   "metadata": {
    "colab_type": "text",
    "id": "1EXLLTnYpF2D"
   },
   "source": [
    "## Move the output to cpu and convert it to numpy and see how each class looks\n"
   ]
  },
  {
   "cell_type": "code",
   "execution_count": 28,
   "metadata": {
    "colab": {},
    "colab_type": "code",
    "id": "HjpnkPB6RKub"
   },
   "outputs": [],
   "source": [
    "out2 = out1.cpu().detach().numpy()"
   ]
  },
  {
   "cell_type": "code",
   "execution_count": 29,
   "metadata": {
    "colab": {
     "base_uri": "https://localhost:8080/",
     "height": 391
    },
    "colab_type": "code",
    "id": "U-sVZCMU6vgF",
    "outputId": "5d9c186e-75e2-4414-c6e3-b788453dbad7"
   },
   "outputs": [
    {
     "data": {
      "image/png": "[encoded data removed]",
      "text/plain": [
       "<Figure size 1440x720 with 2 Axes>"
      ]
     },
     "metadata": {
      "needs_background": "light"
     },
     "output_type": "display_data"
    }
   ],
   "source": [
    "mno = 8 # Should be between 0 - n-1 | where n is the number of classes\n",
    "\n",
    "figure = plt.figure(figsize=(20, 10))\n",
    "plt.subplot(1, 3, 1)\n",
    "plt.title('Input Image')\n",
    "plt.axis('off')\n",
    "plt.imshow(tmg_)\n",
    "plt.subplot(1, 3, 2)\n",
    "plt.title('Output Image')\n",
    "plt.axis('off')\n",
    "plt.imshow(out2[mno, :, :])\n",
    "plt.show()"
   ]
  },
  {
   "cell_type": "markdown",
   "metadata": {
    "colab_type": "text",
    "id": "-8yIfMvrpZkT"
   },
   "source": [
    "Get the class labels from the output"
   ]
  },
  {
   "cell_type": "code",
   "execution_count": 30,
   "metadata": {
    "colab": {},
    "colab_type": "code",
    "id": "e1C9bmgYxkga"
   },
   "outputs": [],
   "source": [
    "b_ = out1.data.max(0)[1].cpu().numpy()"
   ]
  },
  {
   "cell_type": "markdown",
   "metadata": {
    "colab_type": "text",
    "id": "qLw_Y8emp9HM"
   },
   "source": [
    "Define the function that maps a 2D image with all the class labels to a segmented image with the specified colored maps"
   ]
  },
  {
   "cell_type": "code",
   "execution_count": 31,
   "metadata": {
    "colab": {},
    "colab_type": "code",
    "id": "BkyoipIGZKk9"
   },
   "outputs": [],
   "source": [
    "def decode_segmap(image):\n",
    "    Sky = [128, 128, 128]\n",
    "    Building = [128, 0, 0]\n",
    "    Pole = [192, 192, 128]\n",
    "    Road_marking = [255, 69, 0]\n",
    "    Road = [128, 64, 128]\n",
    "    Pavement = [60, 40, 222]\n",
    "    Tree = [128, 128, 0]\n",
    "    SignSymbol = [192, 128, 128]\n",
    "    Fence = [64, 64, 128]\n",
    "    Car = [64, 0, 128]\n",
    "    Pedestrian = [64, 64, 0]\n",
    "    Bicyclist = [0, 128, 192]\n",
    "\n",
    "    label_colours = np.array([Sky, Building, Pole, Road_marking, Road, \n",
    "                              Pavement, Tree, SignSymbol, Fence, Car, \n",
    "                              Pedestrian, Bicyclist]).astype(np.uint8)\n",
    "    r = np.zeros_like(image).astype(np.uint8)\n",
    "    g = np.zeros_like(image).astype(np.uint8)\n",
    "    b = np.zeros_like(image).astype(np.uint8)\n",
    "    for l in range(0, 12):\n",
    "        r[image == l] = label_colours[l, 0]\n",
    "        g[image == l] = label_colours[l, 1]\n",
    "        b[image == l] = label_colours[l, 2]\n",
    "\n",
    "    rgb = np.zeros((image.shape[0], image.shape[1], 3)).astype(np.uint8)\n",
    "    rgb[:, :, 0] = b\n",
    "    rgb[:, :, 1] = g\n",
    "    rgb[:, :, 2] = r\n",
    "    return rgb"
   ]
  },
  {
   "cell_type": "markdown",
   "metadata": {
    "colab_type": "text",
    "id": "v_B6n9VmqP5g"
   },
   "source": [
    "Decode the images"
   ]
  },
  {
   "cell_type": "code",
   "execution_count": 35,
   "metadata": {
    "colab": {},
    "colab_type": "code",
    "id": "OHyCu5TTaNkv"
   },
   "outputs": [],
   "source": [
    "true_seg = decode_segmap(smg_)\n",
    "pred_seg = decode_segmap(b_)"
   ]
  },
  {
   "cell_type": "code",
   "execution_count": 36,
   "metadata": {
    "colab": {
     "base_uri": "https://localhost:8080/",
     "height": 391
    },
    "colab_type": "code",
    "id": "4G_8C40YXziZ",
    "outputId": "75ed8f50-c135-4eb8-9b5c-1a63e2620991"
   },
   "outputs": [
    {
     "data": {
      "image/png": "[encoded data removed]",
      "text/plain": [
       "<Figure size 1440x720 with 3 Axes>"
      ]
     },
     "metadata": {
      "needs_background": "light"
     },
     "output_type": "display_data"
    }
   ],
   "source": [
    "figure = plt.figure(figsize=(20, 10))\n",
    "plt.subplot(1, 3, 1)\n",
    "plt.title('Input Image')\n",
    "plt.axis('off')\n",
    "plt.imshow(tmg_)\n",
    "plt.subplot(1, 3, 2)\n",
    "plt.title('Predicted Segmentation')\n",
    "plt.axis('off')\n",
    "plt.imshow(pred_seg)\n",
    "plt.subplot(1, 3, 3)\n",
    "plt.title('Ground Truth')\n",
    "plt.axis('off')\n",
    "plt.imshow(true_seg)\n",
    "plt.show()"
   ]
  },
  {
   "cell_type": "markdown",
   "metadata": {
    "colab_type": "text",
    "id": "_YI65NDYmr7h"
   },
   "source": [
    "## Save the model checkpoint"
   ]
  },
  {
   "cell_type": "code",
   "execution_count": 0,
   "metadata": {
    "colab": {},
    "colab_type": "code",
    "id": "WjUZDGfU5F8X"
   },
   "outputs": [],
   "source": [
    "# Save the parameters\n",
    "checkpoint = {\n",
    "    'epochs' : e,\n",
    "    'state_dict' : enet.state_dict()\n",
    "}\n",
    "torch.save(checkpoint, 'ckpt-enet-1.pth')"
   ]
  },
  {
   "cell_type": "markdown",
   "metadata": {
    "colab_type": "text",
    "id": "51UgRcNYmwCc"
   },
   "source": [
    "## Save the entire model"
   ]
  },
  {
   "cell_type": "code",
   "execution_count": 0,
   "metadata": {
    "colab": {},
    "colab_type": "code",
    "id": "sQVVoXhn5oun"
   },
   "outputs": [],
   "source": [
    "# Save the model\n",
    "torch.save(enet, '/content/model.pt')"
   ]
  }
 ],
 "metadata": {
  "accelerator": "GPU",
  "colab": {
   "collapsed_sections": [],
   "name": "ENet - Real Time Semantic Segmentation.ipynb",
   "provenance": [],
   "toc_visible": true,
   "version": "0.3.2"
  },
  "kernelspec": {
   "display_name": "Python 3",
   "language": "python",
   "name": "python3"
  },
  "language_info": {
   "codemirror_mode": {
    "name": "ipython",
    "version": 3
   },
   "file_extension": ".py",
   "mimetype": "text/x-python",
   "name": "python",
   "nbconvert_exporter": "python",
   "pygments_lexer": "ipython3",
   "version": "3.6.7"
  }
 },
 "nbformat": 4,
 "nbformat_minor": 1
}
